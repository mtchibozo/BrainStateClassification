{
 "cells": [
  {
   "cell_type": "markdown",
   "metadata": {},
   "source": [
    "## 1D CNN Model - Summary Statistics Calculator"
   ]
  },
  {
   "cell_type": "code",
   "execution_count": null,
   "metadata": {},
   "outputs": [],
   "source": [
    "\"\"\"\n",
    "@authors: Maxime Tchibozo, Zijing Wang\n",
    "@affiliation: NYSPI, Columbia University\n",
    "@date: Oct 2020 - Mar 2021\n",
    "@overview: Computing the f1-score and precision/recall statistics automatically. \n",
    "@input: Confusion matrices for each LOOCV Fold.\n",
    "@output: Performance statistics for each LOOCV test subject Fold.\n",
    "\"\"\""
   ]
  },
  {
   "cell_type": "code",
   "execution_count": 2,
   "metadata": {
    "colab": {
     "base_uri": "https://localhost:8080/",
     "height": 1000
    },
    "executionInfo": {
     "elapsed": 534,
     "status": "error",
     "timestamp": 1619185041376,
     "user": {
      "displayName": "Maxime Tchibozo",
      "photoUrl": "",
      "userId": "01215953581360341724"
     },
     "user_tz": 240
    },
    "id": "1GFl-epe_E2U",
    "outputId": "635806de-e727-473e-d907-5213823d750f"
   },
   "outputs": [
    {
     "name": "stdout",
     "output_type": "stream",
     "text": [
      "Validate the y_pred and y_true is correct:\n",
      "[[198   0   2]\n",
      " [  3 161  36]\n",
      " [ 12  26 162]]\n",
      "              precision    recall  f1-score   support\n",
      "\n",
      "           0      0.930     0.990     0.959       200\n",
      "           1      0.861     0.805     0.832       200\n",
      "           2      0.810     0.810     0.810       200\n",
      "\n",
      "    accuracy                          0.868       600\n",
      "   macro avg      0.867     0.868     0.867       600\n",
      "weighted avg      0.867     0.868     0.867       600\n",
      "\n",
      "Validate the y_pred and y_true is correct:\n",
      "[[184  16   0]\n",
      " [  9 183   8]\n",
      " [ 22  33 145]]\n",
      "              precision    recall  f1-score   support\n",
      "\n",
      "           0      0.856     0.920     0.887       200\n",
      "           1      0.789     0.915     0.847       200\n",
      "           2      0.948     0.725     0.822       200\n",
      "\n",
      "    accuracy                          0.853       600\n",
      "   macro avg      0.864     0.853     0.852       600\n",
      "weighted avg      0.864     0.853     0.852       600\n",
      "\n",
      "Validate the y_pred and y_true is correct:\n",
      "[[180  12   8]\n",
      " [  8 176  16]\n",
      " [  3  39 158]]\n",
      "              precision    recall  f1-score   support\n",
      "\n",
      "           0      0.942     0.900     0.921       200\n",
      "           1      0.775     0.880     0.824       200\n",
      "           2      0.868     0.790     0.827       200\n",
      "\n",
      "    accuracy                          0.857       600\n",
      "   macro avg      0.862     0.857     0.857       600\n",
      "weighted avg      0.862     0.857     0.857       600\n",
      "\n",
      "Validate the y_pred and y_true is correct:\n",
      "[[156   7  37]\n",
      " [ 10 169  21]\n",
      " [ 14  19 167]]\n",
      "              precision    recall  f1-score   support\n",
      "\n",
      "           0      0.867     0.780     0.821       200\n",
      "           1      0.867     0.845     0.856       200\n",
      "           2      0.742     0.835     0.786       200\n",
      "\n",
      "    accuracy                          0.820       600\n",
      "   macro avg      0.825     0.820     0.821       600\n",
      "weighted avg      0.825     0.820     0.821       600\n",
      "\n",
      "Validate the y_pred and y_true is correct:\n",
      "[[163  32   5]\n",
      " [ 19 162  19]\n",
      " [ 16  61 123]]\n",
      "              precision    recall  f1-score   support\n",
      "\n",
      "           0      0.823     0.815     0.819       200\n",
      "           1      0.635     0.810     0.712       200\n",
      "           2      0.837     0.615     0.709       200\n",
      "\n",
      "    accuracy                          0.747       600\n",
      "   macro avg      0.765     0.747     0.747       600\n",
      "weighted avg      0.765     0.747     0.747       600\n",
      "\n",
      "Validate the y_pred and y_true is correct:\n",
      "[[192   8   0]\n",
      " [ 13 165  22]\n",
      " [  4  29 167]]\n",
      "              precision    recall  f1-score   support\n",
      "\n",
      "           0      0.919     0.960     0.939       200\n",
      "           1      0.817     0.825     0.821       200\n",
      "           2      0.884     0.835     0.859       200\n",
      "\n",
      "    accuracy                          0.873       600\n",
      "   macro avg      0.873     0.873     0.873       600\n",
      "weighted avg      0.873     0.873     0.873       600\n",
      "\n",
      "Validate the y_pred and y_true is correct:\n",
      "[[190   6   4]\n",
      " [ 30 153  17]\n",
      " [  9  24 167]]\n",
      "              precision    recall  f1-score   support\n",
      "\n",
      "           0      0.830     0.950     0.886       200\n",
      "           1      0.836     0.765     0.799       200\n",
      "           2      0.888     0.835     0.861       200\n",
      "\n",
      "    accuracy                          0.850       600\n",
      "   macro avg      0.851     0.850     0.849       600\n",
      "weighted avg      0.851     0.850     0.849       600\n",
      "\n",
      "Validate the y_pred and y_true is correct:\n",
      "[[181  13   6]\n",
      " [ 10 181   9]\n",
      " [ 13  28 159]]\n",
      "              precision    recall  f1-score   support\n",
      "\n",
      "           0      0.887     0.905     0.896       200\n",
      "           1      0.815     0.905     0.858       200\n",
      "           2      0.914     0.795     0.850       200\n",
      "\n",
      "    accuracy                          0.868       600\n",
      "   macro avg      0.872     0.868     0.868       600\n",
      "weighted avg      0.872     0.868     0.868       600\n",
      "\n",
      "Validate the y_pred and y_true is correct:\n",
      "[[183   9   8]\n",
      " [ 20 152  28]\n",
      " [  1  12 187]]\n",
      "              precision    recall  f1-score   support\n",
      "\n",
      "           0      0.897     0.915     0.906       200\n",
      "           1      0.879     0.760     0.815       200\n",
      "           2      0.839     0.935     0.884       200\n",
      "\n",
      "    accuracy                          0.870       600\n",
      "   macro avg      0.871     0.870     0.868       600\n",
      "weighted avg      0.871     0.870     0.868       600\n",
      "\n",
      "Validate the y_pred and y_true is correct:\n",
      "[[186   4  10]\n",
      " [  4 155  41]\n",
      " [  2  21 177]]\n",
      "              precision    recall  f1-score   support\n",
      "\n",
      "           0      0.969     0.930     0.949       200\n",
      "           1      0.861     0.775     0.816       200\n",
      "           2      0.776     0.885     0.827       200\n",
      "\n",
      "    accuracy                          0.863       600\n",
      "   macro avg      0.869     0.863     0.864       600\n",
      "weighted avg      0.869     0.863     0.864       600\n",
      "\n",
      "Validate the y_pred and y_true is correct:\n",
      "[[197   0   3]\n",
      " [ 13 156  31]\n",
      " [ 11  20 169]]\n",
      "              precision    recall  f1-score   support\n",
      "\n",
      "           0      0.891     0.985     0.936       200\n",
      "           1      0.886     0.780     0.830       200\n",
      "           2      0.833     0.845     0.839       200\n",
      "\n",
      "    accuracy                          0.870       600\n",
      "   macro avg      0.870     0.870     0.868       600\n",
      "weighted avg      0.870     0.870     0.868       600\n",
      "\n"
     ]
    },
    {
     "name": "stderr",
     "output_type": "stream",
     "text": [
      "/usr/local/lib/python3.7/dist-packages/ipykernel_launcher.py:31: FutureWarning: elementwise comparison failed; returning scalar instead, but in the future will perform elementwise comparison\n"
     ]
    },
    {
     "ename": "TypeError",
     "evalue": "ignored",
     "output_type": "error",
     "traceback": [
      "\u001b[0;31m---------------------------------------------------------------------------\u001b[0m",
      "\u001b[0;31mTypeError\u001b[0m                                 Traceback (most recent call last)",
      "\u001b[0;32m<ipython-input-2-7b5b2cf0126f>\u001b[0m in \u001b[0;36m<module>\u001b[0;34m()\u001b[0m\n\u001b[1;32m     80\u001b[0m     \u001b[0;32mreturn\u001b[0m \u001b[0my_true\u001b[0m\u001b[0;34m,\u001b[0m\u001b[0my_pred\u001b[0m\u001b[0;34m\u001b[0m\u001b[0;34m\u001b[0m\u001b[0m\n\u001b[1;32m     81\u001b[0m \u001b[0;34m\u001b[0m\u001b[0m\n\u001b[0;32m---> 82\u001b[0;31m \u001b[0mgenerate_y_pred\u001b[0m\u001b[0;34m(\u001b[0m\u001b[0mmatrix_list\u001b[0m\u001b[0;34m[\u001b[0m\u001b[0;34m:\u001b[0m\u001b[0;34m-\u001b[0m\u001b[0;36m1\u001b[0m\u001b[0;34m]\u001b[0m\u001b[0;34m)\u001b[0m\u001b[0;34m\u001b[0m\u001b[0;34m\u001b[0m\u001b[0m\n\u001b[0m",
      "\u001b[0;32m<ipython-input-2-7b5b2cf0126f>\u001b[0m in \u001b[0;36mgenerate_y_pred\u001b[0;34m(matrix_list)\u001b[0m\n\u001b[1;32m     35\u001b[0m             \u001b[0my_true\u001b[0m \u001b[0;34m=\u001b[0m \u001b[0;34m[\u001b[0m\u001b[0;34m]\u001b[0m\u001b[0;34m\u001b[0m\u001b[0;34m\u001b[0m\u001b[0m\n\u001b[1;32m     36\u001b[0m             \u001b[0;32mfor\u001b[0m \u001b[0mi\u001b[0m \u001b[0;32min\u001b[0m \u001b[0mrange\u001b[0m\u001b[0;34m(\u001b[0m\u001b[0mn_classes\u001b[0m\u001b[0;34m)\u001b[0m\u001b[0;34m:\u001b[0m\u001b[0;34m\u001b[0m\u001b[0;34m\u001b[0m\u001b[0m\n\u001b[0;32m---> 37\u001b[0;31m                 \u001b[0my_true\u001b[0m\u001b[0;34m.\u001b[0m\u001b[0mextend\u001b[0m\u001b[0;34m(\u001b[0m\u001b[0;34m[\u001b[0m\u001b[0mi\u001b[0m\u001b[0;34m]\u001b[0m\u001b[0;34m*\u001b[0m\u001b[0msum\u001b[0m\u001b[0;34m(\u001b[0m\u001b[0mx\u001b[0m\u001b[0;34m[\u001b[0m\u001b[0mi\u001b[0m\u001b[0;34m]\u001b[0m\u001b[0;34m)\u001b[0m\u001b[0;34m)\u001b[0m\u001b[0;34m\u001b[0m\u001b[0;34m\u001b[0m\u001b[0m\n\u001b[0m\u001b[1;32m     38\u001b[0m \u001b[0;34m\u001b[0m\u001b[0m\n\u001b[1;32m     39\u001b[0m \u001b[0;34m\u001b[0m\u001b[0m\n",
      "\u001b[0;31mTypeError\u001b[0m: can't multiply sequence by non-int of type 'numpy.float64'"
     ]
    }
   ],
   "source": [
    "import numpy as np\n",
    "## rest = 0, neutral = 1, negative = 2\n",
    "\n",
    "confusion_matrix0 = np.array([[198,0,2],[3,161,36],[12,26,162]])\n",
    "confusion_matrix1 = np.array([[184,16,0],[9,183,8],[22,33,145]])\n",
    "confusion_matrix2 = np.array([[180,12,8],[8,176,16],[3,39,158]])\n",
    "confusion_matrix3 = np.array([[156,7,37],[10,169,21],[14,19,167]])\n",
    "confusion_matrix4 = np.array([[163,32,5],[19,162,19],[16,61,123]])\n",
    "\n",
    "confusion_matrix5 = np.array([[192,8,0],[13,165,22],[4,29,167]])\n",
    "confusion_matrix6 = np.array([[190,6,4],[30,153,17],[9,24,167]])\n",
    "confusion_matrix7 = np.array([[181,13,6],[10,181,9],[13,28,159]])\n",
    "confusion_matrix8 = np.array([[183,9,8],[20,152,28],[1,12,187]])\n",
    "confusion_matrix9 = np.array([[186,4,10],[4,155,41],[2,21,177]])\n",
    "confusion_matrix10 = np.array([[197,0,3],[13,156,31],[11,20,169]])\n",
    "\n",
    "\n",
    "confusion_matrixaverage = np.array([[182.7,9.7,7.5],[12.6,164.8,22.5],[9.7,28.4,161.9]])\n",
    "\n",
    "\n",
    "confusion_matrix_experiment_B = np.array([[250,53],[59,248]])\n",
    "\n",
    "matrix_list = [confusion_matrix0,confusion_matrix1,confusion_matrix2,confusion_matrix3,confusion_matrix4\n",
    "              ,confusion_matrix5,confusion_matrix6,confusion_matrix7,confusion_matrix8,confusion_matrix9\n",
    "              ,confusion_matrix10,confusion_matrixaverage,confusion_matrix_experiment_B]\n",
    "\n",
    "from sklearn import metrics\n",
    "def generate_y_pred(matrix_list):  \n",
    "    \n",
    "    for x in matrix_list:\n",
    "        if x !='confusion_matrix_experiment_B':\n",
    "\n",
    "            n_classes = 3\n",
    "\n",
    "            y_true = []\n",
    "            for i in range(n_classes):\n",
    "                y_true.extend([i]*sum(x[i]))\n",
    "\n",
    "\n",
    "            #We can then build y_pred by doing:\n",
    "\n",
    "            y_pred = []\n",
    "            for i in range(n_classes):\n",
    "                for j in range(n_classes):\n",
    "                    y_pred+=[j]*x[i][j]\n",
    "\n",
    "            print(\"Validate the y_pred and y_true is correct:\")\n",
    "\n",
    "\n",
    "            # Print the confusion matrix\n",
    "            print(metrics.confusion_matrix(y_true, y_pred))\n",
    "\n",
    "            # Print the precision and recall, among other metrics\n",
    "            print(metrics.classification_report(y_true, y_pred, digits=3))\n",
    "        else:\n",
    "            n_classes = 2\n",
    "\n",
    "            y_true = []\n",
    "            for i in range(n_classes):\n",
    "                y_true.extend([i]*sum(x[i]))\n",
    "\n",
    "\n",
    "            #We can then build y_pred by doing:\n",
    "\n",
    "            y_pred = []\n",
    "            for i in range(n_classes):\n",
    "                for j in range(n_classes):\n",
    "                    y_pred+=[j]*x[i][j]\n",
    "\n",
    "            print(\"Validate the y_pred and y_true is correct:\")\n",
    "\n",
    "\n",
    "            # Print the confusion matrix\n",
    "            print(metrics.confusion_matrix(y_true, y_pred))\n",
    "\n",
    "            # Print the precision and recall, among other metrics\n",
    "            print(metrics.classification_report(y_true, y_pred, digits=3))\n",
    "\n",
    "    \n",
    "    return y_true,y_pred\n",
    "\n",
    "generate_y_pred(matrix_list)"
   ]
  },
  {
   "cell_type": "code",
   "execution_count": 3,
   "metadata": {
    "colab": {
     "base_uri": "https://localhost:8080/"
    },
    "executionInfo": {
     "elapsed": 246,
     "status": "ok",
     "timestamp": 1619185100237,
     "user": {
      "displayName": "Maxime Tchibozo",
      "photoUrl": "",
      "userId": "01215953581360341724"
     },
     "user_tz": 240
    },
    "id": "NnB_Xphk_E2t",
    "outputId": "6d42e695-fcd5-4d6c-ba0b-81a0170e32d7"
   },
   "outputs": [
    {
     "name": "stdout",
     "output_type": "stream",
     "text": [
      "Validate the y_pred and y_true is correct:\n",
      "[[250  53]\n",
      " [ 59 248]]\n",
      "              precision    recall  f1-score   support\n",
      "\n",
      "           0      0.809     0.825     0.817       303\n",
      "           1      0.824     0.808     0.816       307\n",
      "\n",
      "    accuracy                          0.816       610\n",
      "   macro avg      0.816     0.816     0.816       610\n",
      "weighted avg      0.817     0.816     0.816       610\n",
      "\n"
     ]
    }
   ],
   "source": [
    "confusion_matrix_experiment_B = np.array([[250,53],[59,248]])\n",
    "\n",
    "for x in [confusion_matrix_experiment_B]:\n",
    "        n_classes = 2\n",
    "\n",
    "        y_true = []\n",
    "        for i in range(n_classes):\n",
    "            y_true.extend([i]*sum(x[i]))\n",
    "\n",
    "\n",
    "        #We can then build y_pred by doing:\n",
    "\n",
    "        y_pred = []\n",
    "        for i in range(n_classes):\n",
    "            for j in range(n_classes):\n",
    "                y_pred+=[j]*x[i][j]\n",
    "\n",
    "        print(\"Validate the y_pred and y_true is correct:\")\n",
    "\n",
    "\n",
    "        # Print the confusion matrix\n",
    "        print(metrics.confusion_matrix(y_true, y_pred))\n",
    "\n",
    "        # Print the precision and recall, among other metrics\n",
    "        print(metrics.classification_report(y_true, y_pred, digits=3))\n",
    "\n",
    "\n",
    "\n"
   ]
  },
  {
   "cell_type": "code",
   "execution_count": 6,
   "metadata": {
    "executionInfo": {
     "elapsed": 342,
     "status": "ok",
     "timestamp": 1619185241892,
     "user": {
      "displayName": "Maxime Tchibozo",
      "photoUrl": "",
      "userId": "01215953581360341724"
     },
     "user_tz": 240
    },
    "id": "AA-ZCRwH_3sC"
   },
   "outputs": [],
   "source": [
    "u = metrics.classification_report(y_true, y_pred, digits=3, output_dict=True)\n"
   ]
  },
  {
   "cell_type": "code",
   "execution_count": 7,
   "metadata": {
    "colab": {
     "base_uri": "https://localhost:8080/"
    },
    "executionInfo": {
     "elapsed": 350,
     "status": "ok",
     "timestamp": 1619185246004,
     "user": {
      "displayName": "Maxime Tchibozo",
      "photoUrl": "",
      "userId": "01215953581360341724"
     },
     "user_tz": 240
    },
    "id": "_ReL7Pmu9Cgj",
    "outputId": "2cdbb440-3f1d-473c-ad8d-e628f5578387"
   },
   "outputs": [
    {
     "data": {
      "text/plain": [
       "{'0': {'f1-score': 0.8169934640522876,\n",
       "  'precision': 0.8090614886731392,\n",
       "  'recall': 0.8250825082508251,\n",
       "  'support': 303},\n",
       " '1': {'f1-score': 0.8157894736842105,\n",
       "  'precision': 0.8239202657807309,\n",
       "  'recall': 0.8078175895765473,\n",
       "  'support': 307},\n",
       " 'accuracy': 0.8163934426229508,\n",
       " 'macro avg': {'f1-score': 0.816391468868249,\n",
       "  'precision': 0.816490877226935,\n",
       "  'recall': 0.8164500489136861,\n",
       "  'support': 610},\n",
       " 'weighted avg': {'f1-score': 0.8163875213588455,\n",
       "  'precision': 0.8165395945289272,\n",
       "  'recall': 0.8163934426229508,\n",
       "  'support': 610}}"
      ]
     },
     "execution_count": 7,
     "metadata": {
      "tags": []
     },
     "output_type": "execute_result"
    }
   ],
   "source": [
    "u"
   ]
  },
  {
   "cell_type": "code",
   "execution_count": 10,
   "metadata": {
    "colab": {
     "base_uri": "https://localhost:8080/"
    },
    "executionInfo": {
     "elapsed": 301,
     "status": "ok",
     "timestamp": 1619185427443,
     "user": {
      "displayName": "Maxime Tchibozo",
      "photoUrl": "",
      "userId": "01215953581360341724"
     },
     "user_tz": 240
    },
    "id": "UMf3UsEQ9DDw",
    "outputId": "e989f68c-e3f7-4474-de65-4303aa4f71e8"
   },
   "outputs": [
    {
     "name": "stdout",
     "output_type": "stream",
     "text": [
      "Validate the y_pred and y_true is correct:\n",
      "[[198   0   2]\n",
      " [  3 161  36]\n",
      " [ 12  26 162]]\n",
      "Validate the y_pred and y_true is correct:\n",
      "[[184  16   0]\n",
      " [  9 183   8]\n",
      " [ 22  33 145]]\n",
      "Validate the y_pred and y_true is correct:\n",
      "[[180  12   8]\n",
      " [  8 176  16]\n",
      " [  3  39 158]]\n",
      "Validate the y_pred and y_true is correct:\n",
      "[[156   7  37]\n",
      " [ 10 169  21]\n",
      " [ 14  19 167]]\n",
      "Validate the y_pred and y_true is correct:\n",
      "[[163  32   5]\n",
      " [ 19 162  19]\n",
      " [ 16  61 123]]\n",
      "Validate the y_pred and y_true is correct:\n",
      "[[192   8   0]\n",
      " [ 13 165  22]\n",
      " [  4  29 167]]\n",
      "Validate the y_pred and y_true is correct:\n",
      "[[190   6   4]\n",
      " [ 30 153  17]\n",
      " [  9  24 167]]\n",
      "Validate the y_pred and y_true is correct:\n",
      "[[181  13   6]\n",
      " [ 10 181   9]\n",
      " [ 13  28 159]]\n",
      "Validate the y_pred and y_true is correct:\n",
      "[[183   9   8]\n",
      " [ 20 152  28]\n",
      " [  1  12 187]]\n",
      "Validate the y_pred and y_true is correct:\n",
      "[[186   4  10]\n",
      " [  4 155  41]\n",
      " [  2  21 177]]\n",
      "Validate the y_pred and y_true is correct:\n",
      "[[197   0   3]\n",
      " [ 13 156  31]\n",
      " [ 11  20 169]]\n"
     ]
    },
    {
     "name": "stderr",
     "output_type": "stream",
     "text": [
      "/usr/local/lib/python3.7/dist-packages/ipykernel_launcher.py:4: FutureWarning: elementwise comparison failed; returning scalar instead, but in the future will perform elementwise comparison\n",
      "  after removing the cwd from sys.path.\n"
     ]
    }
   ],
   "source": [
    "def generate_y_pred(matrix_list):  \n",
    "    output_list = []\n",
    "    for x in matrix_list:\n",
    "        if x !='confusion_matrix_experiment_B':\n",
    "\n",
    "            n_classes = 3\n",
    "\n",
    "            y_true = []\n",
    "            for i in range(n_classes):\n",
    "                y_true.extend([i]*sum(x[i]))\n",
    "\n",
    "\n",
    "            #We can then build y_pred by doing:\n",
    "\n",
    "            y_pred = []\n",
    "            for i in range(n_classes):\n",
    "                for j in range(n_classes):\n",
    "                    y_pred+=[j]*x[i][j]\n",
    "\n",
    "            print(\"Validate the y_pred and y_true is correct:\")\n",
    "\n",
    "\n",
    "            # Print the confusion matrix\n",
    "            print(metrics.confusion_matrix(y_true, y_pred))\n",
    "\n",
    "            # Print the precision and recall, among other metrics\n",
    "            output_list.append(metrics.classification_report(y_true, y_pred, digits=3,output_dict=True))\n",
    "\n",
    "    return output_list\n",
    "\n",
    "output_list = generate_y_pred(matrix_list[:-2])"
   ]
  },
  {
   "cell_type": "code",
   "execution_count": 21,
   "metadata": {
    "colab": {
     "base_uri": "https://localhost:8080/"
    },
    "executionInfo": {
     "elapsed": 282,
     "status": "ok",
     "timestamp": 1619186212022,
     "user": {
      "displayName": "Maxime Tchibozo",
      "photoUrl": "",
      "userId": "01215953581360341724"
     },
     "user_tz": 240
    },
    "id": "3SgPnwWNBMyQ",
    "outputId": "539ace27-d23d-4315-b67c-f2a635af3387"
   },
   "outputs": [
    {
     "data": {
      "text/plain": [
       "11"
      ]
     },
     "execution_count": 21,
     "metadata": {
      "tags": []
     },
     "output_type": "execute_result"
    }
   ],
   "source": [
    "len(output_list)"
   ]
  },
  {
   "cell_type": "code",
   "execution_count": 18,
   "metadata": {
    "colab": {
     "base_uri": "https://localhost:8080/"
    },
    "executionInfo": {
     "elapsed": 312,
     "status": "ok",
     "timestamp": 1619185914985,
     "user": {
      "displayName": "Maxime Tchibozo",
      "photoUrl": "",
      "userId": "01215953581360341724"
     },
     "user_tz": 240
    },
    "id": "iK3EkXWf98eM",
    "outputId": "e3432a62-6e51-49ea-f2db-82ab1e1b34ea"
   },
   "outputs": [
    {
     "name": "stdout",
     "output_type": "stream",
     "text": [
      "class 0\n",
      "precision: 0.892\n",
      "precision std: 0.044\n",
      "recall: 0.914\n",
      "recall std: 0.062\n",
      "f1-score: 0.902\n",
      "f1-score std: 0.045\n"
     ]
    }
   ],
   "source": [
    "print('class 0')\n",
    "print('precision:',format(np.mean([x['0']['precision'] for x in output_list]),'.3f'))\n",
    "print('precision std:',format(np.std([x['0']['precision'] for x in output_list]),'.3f'))\n",
    "print('recall:',format(np.mean([x['0']['recall'] for x in output_list]),'.3f'))\n",
    "print('recall std:',format(np.std([x['0']['recall'] for x in output_list]),'.3f'))\n",
    "print('f1-score:',format(np.mean([x['0']['f1-score'] for x in output_list]),'.3f'))\n",
    "print('f1-score std:',format(np.std([x['0']['f1-score'] for x in output_list]),'.3f'))"
   ]
  },
  {
   "cell_type": "code",
   "execution_count": 19,
   "metadata": {
    "colab": {
     "base_uri": "https://localhost:8080/"
    },
    "executionInfo": {
     "elapsed": 229,
     "status": "ok",
     "timestamp": 1619186002112,
     "user": {
      "displayName": "Maxime Tchibozo",
      "photoUrl": "",
      "userId": "01215953581360341724"
     },
     "user_tz": 240
    },
    "id": "e3fmFkSh-PNm",
    "outputId": "d673e5c0-b3e0-46bc-de7c-6360cb1677fa"
   },
   "outputs": [
    {
     "name": "stdout",
     "output_type": "stream",
     "text": [
      "class 1\n",
      "precision: 0.820\n",
      "precision std: 0.068\n",
      "recall: 0.824\n",
      "recall std: 0.053\n",
      "f1-score: 0.819\n",
      "f1-score std: 0.038\n"
     ]
    }
   ],
   "source": [
    "print('class 1')\n",
    "print('precision:',format(np.mean([x['1']['precision'] for x in output_list]),'.3f'))\n",
    "print('precision std:',format(np.std([x['1']['precision'] for x in output_list]),'.3f'))\n",
    "print('recall:',format(np.mean([x['1']['recall'] for x in output_list]),'.3f'))\n",
    "print('recall std:',format(np.std([x['1']['recall'] for x in output_list]),'.3f'))\n",
    "print('f1-score:',format(np.mean([x['1']['f1-score'] for x in output_list]),'.3f'))\n",
    "print('f1-score std:',format(np.std([x['1']['f1-score'] for x in output_list]),'.3f'))"
   ]
  },
  {
   "cell_type": "code",
   "execution_count": 20,
   "metadata": {
    "colab": {
     "base_uri": "https://localhost:8080/"
    },
    "executionInfo": {
     "elapsed": 278,
     "status": "ok",
     "timestamp": 1619186085121,
     "user": {
      "displayName": "Maxime Tchibozo",
      "photoUrl": "",
      "userId": "01215953581360341724"
     },
     "user_tz": 240
    },
    "id": "YtgvJYQyAaeA",
    "outputId": "5d4a5a41-62f1-4226-8eaa-37afc9a376c1"
   },
   "outputs": [
    {
     "name": "stdout",
     "output_type": "stream",
     "text": [
      "class 2\n",
      "precision: 0.849\n",
      "precision std: 0.057\n",
      "recall: 0.810\n",
      "recall std: 0.080\n",
      "f1-score: 0.825\n",
      "f1-score std: 0.045\n"
     ]
    }
   ],
   "source": [
    "print('class 2')\n",
    "print('precision:',format(np.mean([x['2']['precision'] for x in output_list]),'.3f'))\n",
    "print('precision std:',format(np.std([x['2']['precision'] for x in output_list]),'.3f'))\n",
    "print('recall:',format(np.mean([x['2']['recall'] for x in output_list]),'.3f'))\n",
    "print('recall std:',format(np.std([x['2']['recall'] for x in output_list]),'.3f'))\n",
    "print('f1-score:',format(np.mean([x['2']['f1-score'] for x in output_list]),'.3f'))\n",
    "print('f1-score std:',format(np.std([x['2']['f1-score'] for x in output_list]),'.3f'))"
   ]
  },
  {
   "cell_type": "code",
   "execution_count": 31,
   "metadata": {
    "colab": {
     "base_uri": "https://localhost:8080/"
    },
    "executionInfo": {
     "elapsed": 334,
     "status": "ok",
     "timestamp": 1619187047488,
     "user": {
      "displayName": "Maxime Tchibozo",
      "photoUrl": "",
      "userId": "01215953581360341724"
     },
     "user_tz": 240
    },
    "id": "zkuARsgoAuum",
    "outputId": "4980091f-2556-4c22-b62e-45ba2765443c"
   },
   "outputs": [
    {
     "name": "stdout",
     "output_type": "stream",
     "text": [
      "Validate the y_pred and y_true is correct:\n",
      "[[250  53]\n",
      " [ 59 248]]\n"
     ]
    }
   ],
   "source": [
    "def generate_y_pred(matrix_list):  \n",
    "    output_list = []\n",
    "    for x in matrix_list:\n",
    "        n_classes = 2\n",
    "\n",
    "        y_true = []\n",
    "        for i in range(n_classes):\n",
    "            y_true.extend([i]*sum(x[i]))\n",
    "\n",
    "\n",
    "        #We can then build y_pred by doing:\n",
    "\n",
    "        y_pred = []\n",
    "        for i in range(n_classes):\n",
    "            for j in range(n_classes):\n",
    "                y_pred+=[j]*x[i][j]\n",
    "\n",
    "        print(\"Validate the y_pred and y_true is correct:\")\n",
    "\n",
    "\n",
    "        # Print the confusion matrix\n",
    "        print(metrics.confusion_matrix(y_true, y_pred))\n",
    "\n",
    "        # Print the precision and recall, among other metrics\n",
    "        output_list.append(metrics.classification_report(y_true, y_pred, digits=3,output_dict=True))\n",
    "\n",
    "    return output_list\n",
    "\n",
    "output_list = generate_y_pred([matrix_list[-1]])"
   ]
  },
  {
   "cell_type": "code",
   "execution_count": 32,
   "metadata": {
    "colab": {
     "base_uri": "https://localhost:8080/"
    },
    "executionInfo": {
     "elapsed": 410,
     "status": "ok",
     "timestamp": 1619187053930,
     "user": {
      "displayName": "Maxime Tchibozo",
      "photoUrl": "",
      "userId": "01215953581360341724"
     },
     "user_tz": 240
    },
    "id": "un0mugy6CmwL",
    "outputId": "ecf09cc1-d788-4e6d-a200-2d21e4152eab"
   },
   "outputs": [
    {
     "data": {
      "text/plain": [
       "[{'0': {'f1-score': 0.8169934640522876,\n",
       "   'precision': 0.8090614886731392,\n",
       "   'recall': 0.8250825082508251,\n",
       "   'support': 303},\n",
       "  '1': {'f1-score': 0.8157894736842105,\n",
       "   'precision': 0.8239202657807309,\n",
       "   'recall': 0.8078175895765473,\n",
       "   'support': 307},\n",
       "  'accuracy': 0.8163934426229508,\n",
       "  'macro avg': {'f1-score': 0.816391468868249,\n",
       "   'precision': 0.816490877226935,\n",
       "   'recall': 0.8164500489136861,\n",
       "   'support': 610},\n",
       "  'weighted avg': {'f1-score': 0.8163875213588455,\n",
       "   'precision': 0.8165395945289272,\n",
       "   'recall': 0.8163934426229508,\n",
       "   'support': 610}}]"
      ]
     },
     "execution_count": 32,
     "metadata": {
      "tags": []
     },
     "output_type": "execute_result"
    }
   ],
   "source": [
    "output_list"
   ]
  },
  {
   "cell_type": "code",
   "execution_count": 33,
   "metadata": {
    "colab": {
     "base_uri": "https://localhost:8080/"
    },
    "executionInfo": {
     "elapsed": 465,
     "status": "ok",
     "timestamp": 1619187073613,
     "user": {
      "displayName": "Maxime Tchibozo",
      "photoUrl": "",
      "userId": "01215953581360341724"
     },
     "user_tz": 240
    },
    "id": "Yg6PDzYHCn8r",
    "outputId": "bbdddcf8-206b-458b-fd54-e46504ad1595"
   },
   "outputs": [
    {
     "name": "stdout",
     "output_type": "stream",
     "text": [
      "class 0\n",
      "precision: 0.809\n",
      "precision std: 0.000\n",
      "recall: 0.825\n",
      "recall std: 0.000\n",
      "f1-score: 0.817\n",
      "f1-score std: 0.000\n"
     ]
    }
   ],
   "source": [
    "print('class 0')\n",
    "print('precision:',format(np.mean([x['0']['precision'] for x in output_list]),'.3f'))\n",
    "print('precision std:',format(np.std([x['0']['precision'] for x in output_list]),'.3f'))\n",
    "print('recall:',format(np.mean([x['0']['recall'] for x in output_list]),'.3f'))\n",
    "print('recall std:',format(np.std([x['0']['recall'] for x in output_list]),'.3f'))\n",
    "print('f1-score:',format(np.mean([x['0']['f1-score'] for x in output_list]),'.3f'))\n",
    "print('f1-score std:',format(np.std([x['0']['f1-score'] for x in output_list]),'.3f'))"
   ]
  },
  {
   "cell_type": "code",
   "execution_count": 34,
   "metadata": {
    "colab": {
     "base_uri": "https://localhost:8080/"
    },
    "executionInfo": {
     "elapsed": 239,
     "status": "ok",
     "timestamp": 1619187212577,
     "user": {
      "displayName": "Maxime Tchibozo",
      "photoUrl": "",
      "userId": "01215953581360341724"
     },
     "user_tz": 240
    },
    "id": "3Iqj11hHCshu",
    "outputId": "682d6ecd-de60-4d84-f925-6d9557e61f40"
   },
   "outputs": [
    {
     "name": "stdout",
     "output_type": "stream",
     "text": [
      "class 1\n",
      "precision: 0.824\n",
      "precision std: 0.000\n",
      "recall: 0.808\n",
      "recall std: 0.000\n",
      "f1-score: 0.816\n",
      "f1-score std: 0.000\n"
     ]
    }
   ],
   "source": [
    "print('class 1')\n",
    "print('precision:',format(np.mean([x['1']['precision'] for x in output_list]),'.3f'))\n",
    "print('precision std:',format(np.std([x['1']['precision'] for x in output_list]),'.3f'))\n",
    "print('recall:',format(np.mean([x['1']['recall'] for x in output_list]),'.3f'))\n",
    "print('recall std:',format(np.std([x['1']['recall'] for x in output_list]),'.3f'))\n",
    "print('f1-score:',format(np.mean([x['1']['f1-score'] for x in output_list]),'.3f'))\n",
    "print('f1-score std:',format(np.std([x['1']['f1-score'] for x in output_list]),'.3f'))"
   ]
  },
  {
   "cell_type": "code",
   "execution_count": null,
   "metadata": {
    "id": "IKPwx5qJFB_s"
   },
   "outputs": [],
   "source": []
  }
 ],
 "metadata": {
  "colab": {
   "collapsed_sections": [],
   "name": "F1-score calculator.ipynb",
   "provenance": []
  },
  "kernelspec": {
   "display_name": "Python 3",
   "language": "python",
   "name": "python3"
  },
  "language_info": {
   "codemirror_mode": {
    "name": "ipython",
    "version": 3
   },
   "file_extension": ".py",
   "mimetype": "text/x-python",
   "name": "python",
   "nbconvert_exporter": "python",
   "pygments_lexer": "ipython3",
   "version": "3.6.10"
  }
 },
 "nbformat": 4,
 "nbformat_minor": 1
}
