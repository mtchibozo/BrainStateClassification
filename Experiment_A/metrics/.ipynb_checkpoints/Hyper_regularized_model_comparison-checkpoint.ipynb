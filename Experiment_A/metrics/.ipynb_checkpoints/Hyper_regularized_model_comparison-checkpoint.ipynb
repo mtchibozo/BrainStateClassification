{
 "cells": [
  {
   "cell_type": "markdown",
   "metadata": {},
   "source": [
    "## 1D CNN Model - Benchmarking"
   ]
  },
  {
   "cell_type": "code",
   "execution_count": null,
   "metadata": {},
   "outputs": [],
   "source": [
    "\"\"\"\n",
    "@authors: Maxime Tchibozo, Donggeun Kim\n",
    "@affiliation: NYSPI, Columbia University\n",
    "@date: Oct 2018 - Oct 2020\n",
    "@overview: Comparing the performance of different Machine Learning algorithms on the Experiment A task.\n",
    "@input: Hyperaligned voxels with labels as numpy arrays (X_hyp_v2.csv and Y_hyp_v2.csv).\n",
    "@output: Metrics for different classical algorithms.\n",
    "\"\"\""
   ]
  },
  {
   "cell_type": "code",
   "execution_count": 1,
   "metadata": {
    "colab": {
     "base_uri": "https://localhost:8080/"
    },
    "executionInfo": {
     "elapsed": 2586,
     "status": "ok",
     "timestamp": 1621906313358,
     "user": {
      "displayName": "Maxime Tchibozo",
      "photoUrl": "",
      "userId": "01215953581360341724"
     },
     "user_tz": 240
    },
    "id": "VHC679VZ0PZY",
    "outputId": "5278e360-fd90-4659-b24c-77bc3e0a39aa"
   },
   "outputs": [
    {
     "name": "stderr",
     "output_type": "stream",
     "text": [
      "/usr/local/lib/python3.7/dist-packages/sklearn/externals/six.py:31: FutureWarning: The module is deprecated in version 0.21 and will be removed in version 0.23 since we've dropped support for Python 2.7. Please rely on the official version of six (https://pypi.org/project/six/).\n",
      "  \"(https://pypi.org/project/six/).\", FutureWarning)\n",
      "/usr/local/lib/python3.7/dist-packages/sklearn/utils/deprecation.py:144: FutureWarning: The sklearn.neighbors.base module is  deprecated in version 0.22 and will be removed in version 0.24. The corresponding classes / functions should instead be imported from sklearn.neighbors. Anything that cannot be imported from sklearn.neighbors is now part of the private API.\n",
      "  warnings.warn(message, FutureWarning)\n"
     ]
    }
   ],
   "source": [
    "import numpy as np\n",
    "import pandas as pd\n",
    "import keras\n",
    "from keras import backend as K\n",
    "from keras.callbacks import History\n",
    "import pickle\n",
    "from keras import initializers\n",
    "from IPython.display import SVG\n",
    "from keras.utils.vis_utils import model_to_dot, plot_model\n",
    "\n",
    "from keras.models import Sequential\n",
    "from keras.layers.core import Flatten, Dense, Dropout, Activation\n",
    "from keras.layers.convolutional import Conv1D, MaxPooling1D, ZeroPadding1D\n",
    "from keras.layers.convolutional import Conv2D, MaxPooling2D, ZeroPadding2D\n",
    "from keras.optimizers import SGD\n",
    "from sklearn.model_selection import KFold\n",
    "from sklearn.model_selection import StratifiedKFold\n",
    "import glob\n",
    "import os\n",
    "from keras.callbacks import ModelCheckpoint\n",
    "from keras.callbacks import ReduceLROnPlateau\n",
    "\n",
    "import pandas as pd\n",
    "import matplotlib.pyplot as plt\n",
    "from matplotlib.pyplot import figure, show\n",
    "from matplotlib.ticker import MaxNLocator\n",
    "import matplotlib as mpl\n",
    "from sklearn import preprocessing\n",
    "from sklearn.svm import SVC, LinearSVC\n",
    "from sklearn.ensemble import RandomForestClassifier\n",
    "from sklearn.discriminant_analysis import LinearDiscriminantAnalysis\n",
    "from imblearn.over_sampling import RandomOverSampler\n",
    "from imblearn.under_sampling import RandomUnderSampler\n",
    "from xgboost import XGBClassifier\n",
    "\n",
    "from sklearn.metrics import roc_curve,roc_auc_score"
   ]
  },
  {
   "cell_type": "code",
   "execution_count": 3,
   "metadata": {
    "executionInfo": {
     "elapsed": 22,
     "status": "ok",
     "timestamp": 1621906342080,
     "user": {
      "displayName": "Maxime Tchibozo",
      "photoUrl": "",
      "userId": "01215953581360341724"
     },
     "user_tz": 240
    },
    "id": "yGAj7qa26WIN"
   },
   "outputs": [],
   "source": [
    "folder_root = '/content/drive/My Drive/BrainStateClassification/code/'#Update to your main folder, this folder must contain a data and a result subfolder\n",
    "folder_data = folder_root + 'data/' #folder containing all the .mat files\n",
    "folder_result = folder_root + 'data/plateau' #folder where your models and logs will be stored\n"
   ]
  },
  {
   "cell_type": "code",
   "execution_count": 4,
   "metadata": {
    "executionInfo": {
     "elapsed": 905,
     "status": "ok",
     "timestamp": 1621906342968,
     "user": {
      "displayName": "Maxime Tchibozo",
      "photoUrl": "",
      "userId": "01215953581360341724"
     },
     "user_tz": 240
    },
    "id": "1Law7G13BPoK"
   },
   "outputs": [],
   "source": [
    "os.chdir(folder_data)"
   ]
  },
  {
   "cell_type": "code",
   "execution_count": 5,
   "metadata": {
    "executionInfo": {
     "elapsed": 3053,
     "status": "ok",
     "timestamp": 1621906346015,
     "user": {
      "displayName": "Maxime Tchibozo",
      "photoUrl": "",
      "userId": "01215953581360341724"
     },
     "user_tz": 240
    },
    "id": "Bmva1NFY1P3n"
   },
   "outputs": [],
   "source": [
    "Y = np.loadtxt('Y_hyp_v2.csv',delimiter=\",\")\n",
    "X = np.loadtxt('X_hyp_v2.csv',delimiter=\",\")"
   ]
  },
  {
   "cell_type": "code",
   "execution_count": 6,
   "metadata": {
    "colab": {
     "base_uri": "https://localhost:8080/"
    },
    "executionInfo": {
     "elapsed": 31,
     "status": "ok",
     "timestamp": 1621906346023,
     "user": {
      "displayName": "Maxime Tchibozo",
      "photoUrl": "",
      "userId": "01215953581360341724"
     },
     "user_tz": 240
    },
    "id": "6DTfTRYUz98n",
    "outputId": "a8853283-f26f-4891-81e7-2881d938440b"
   },
   "outputs": [
    {
     "data": {
      "text/plain": [
       "Counter({0.0: 2200, 1.0: 1100, 2.0: 1100})"
      ]
     },
     "execution_count": 6,
     "metadata": {
      "tags": []
     },
     "output_type": "execute_result"
    }
   ],
   "source": [
    "from collections import Counter\n",
    "Counter(Y)"
   ]
  },
  {
   "cell_type": "code",
   "execution_count": null,
   "metadata": {
    "colab": {
     "base_uri": "https://localhost:8080/"
    },
    "executionInfo": {
     "elapsed": 19621,
     "status": "ok",
     "timestamp": 1618108614850,
     "user": {
      "displayName": "Maxime Tchibozo",
      "photoUrl": "",
      "userId": "01215953581360341724"
     },
     "user_tz": 240
    },
    "id": "No5angtRiavu",
    "outputId": "d73ecb76-8335-43ee-e0aa-ca906bd92006"
   },
   "outputs": [
    {
     "data": {
      "text/plain": [
       "(4400, 300)"
      ]
     },
     "execution_count": 7,
     "metadata": {
      "tags": []
     },
     "output_type": "execute_result"
    }
   ],
   "source": [
    "np.shape(X)"
   ]
  },
  {
   "cell_type": "markdown",
   "metadata": {
    "id": "x65v8vdKG7xg"
   },
   "source": [
    "## Comparison with other models\n",
    "\n",
    "Here we compare the 1DCNN performance with SVM, XGBoost"
   ]
  },
  {
   "cell_type": "code",
   "execution_count": null,
   "metadata": {
    "colab": {
     "base_uri": "https://localhost:8080/",
     "height": 1000
    },
    "executionInfo": {
     "elapsed": 83032,
     "status": "ok",
     "timestamp": 1601439443512,
     "user": {
      "displayName": "Maxime Tchibozo",
      "photoUrl": "",
      "userId": "01215953581360341724"
     },
     "user_tz": 240
    },
    "id": "wlg_IevMzWUM",
    "outputId": "d8b56e66-0a21-4dd6-ebd3-c83d7af5ab3d"
   },
   "outputs": [
    {
     "name": "stdout",
     "output_type": "stream",
     "text": [
      "0\n"
     ]
    },
    {
     "name": "stderr",
     "output_type": "stream",
     "text": [
      "/usr/local/lib/python3.6/dist-packages/sklearn/utils/deprecation.py:87: FutureWarning: Function safe_indexing is deprecated; safe_indexing is deprecated in version 0.22 and will be removed in version 0.24.\n",
      "  warnings.warn(msg, category=FutureWarning)\n",
      "/usr/local/lib/python3.6/dist-packages/sklearn/utils/deprecation.py:87: FutureWarning: Function safe_indexing is deprecated; safe_indexing is deprecated in version 0.22 and will be removed in version 0.24.\n",
      "  warnings.warn(msg, category=FutureWarning)\n"
     ]
    },
    {
     "name": "stdout",
     "output_type": "stream",
     "text": [
      "0.7666666666666667\n",
      "1\n"
     ]
    },
    {
     "name": "stderr",
     "output_type": "stream",
     "text": [
      "/usr/local/lib/python3.6/dist-packages/sklearn/utils/deprecation.py:87: FutureWarning: Function safe_indexing is deprecated; safe_indexing is deprecated in version 0.22 and will be removed in version 0.24.\n",
      "  warnings.warn(msg, category=FutureWarning)\n",
      "/usr/local/lib/python3.6/dist-packages/sklearn/utils/deprecation.py:87: FutureWarning: Function safe_indexing is deprecated; safe_indexing is deprecated in version 0.22 and will be removed in version 0.24.\n",
      "  warnings.warn(msg, category=FutureWarning)\n"
     ]
    },
    {
     "name": "stdout",
     "output_type": "stream",
     "text": [
      "0.83\n",
      "2\n"
     ]
    },
    {
     "name": "stderr",
     "output_type": "stream",
     "text": [
      "/usr/local/lib/python3.6/dist-packages/sklearn/utils/deprecation.py:87: FutureWarning: Function safe_indexing is deprecated; safe_indexing is deprecated in version 0.22 and will be removed in version 0.24.\n",
      "  warnings.warn(msg, category=FutureWarning)\n",
      "/usr/local/lib/python3.6/dist-packages/sklearn/utils/deprecation.py:87: FutureWarning: Function safe_indexing is deprecated; safe_indexing is deprecated in version 0.22 and will be removed in version 0.24.\n",
      "  warnings.warn(msg, category=FutureWarning)\n"
     ]
    },
    {
     "name": "stdout",
     "output_type": "stream",
     "text": [
      "0.7766666666666666\n",
      "3\n"
     ]
    },
    {
     "name": "stderr",
     "output_type": "stream",
     "text": [
      "/usr/local/lib/python3.6/dist-packages/sklearn/utils/deprecation.py:87: FutureWarning: Function safe_indexing is deprecated; safe_indexing is deprecated in version 0.22 and will be removed in version 0.24.\n",
      "  warnings.warn(msg, category=FutureWarning)\n",
      "/usr/local/lib/python3.6/dist-packages/sklearn/utils/deprecation.py:87: FutureWarning: Function safe_indexing is deprecated; safe_indexing is deprecated in version 0.22 and will be removed in version 0.24.\n",
      "  warnings.warn(msg, category=FutureWarning)\n"
     ]
    },
    {
     "name": "stdout",
     "output_type": "stream",
     "text": [
      "0.7666666666666667\n",
      "4\n"
     ]
    },
    {
     "name": "stderr",
     "output_type": "stream",
     "text": [
      "/usr/local/lib/python3.6/dist-packages/sklearn/utils/deprecation.py:87: FutureWarning: Function safe_indexing is deprecated; safe_indexing is deprecated in version 0.22 and will be removed in version 0.24.\n",
      "  warnings.warn(msg, category=FutureWarning)\n",
      "/usr/local/lib/python3.6/dist-packages/sklearn/utils/deprecation.py:87: FutureWarning: Function safe_indexing is deprecated; safe_indexing is deprecated in version 0.22 and will be removed in version 0.24.\n",
      "  warnings.warn(msg, category=FutureWarning)\n"
     ]
    },
    {
     "name": "stdout",
     "output_type": "stream",
     "text": [
      "0.7066666666666667\n",
      "5\n"
     ]
    },
    {
     "name": "stderr",
     "output_type": "stream",
     "text": [
      "/usr/local/lib/python3.6/dist-packages/sklearn/utils/deprecation.py:87: FutureWarning: Function safe_indexing is deprecated; safe_indexing is deprecated in version 0.22 and will be removed in version 0.24.\n",
      "  warnings.warn(msg, category=FutureWarning)\n",
      "/usr/local/lib/python3.6/dist-packages/sklearn/utils/deprecation.py:87: FutureWarning: Function safe_indexing is deprecated; safe_indexing is deprecated in version 0.22 and will be removed in version 0.24.\n",
      "  warnings.warn(msg, category=FutureWarning)\n"
     ]
    },
    {
     "name": "stdout",
     "output_type": "stream",
     "text": [
      "0.8216666666666667\n",
      "6\n"
     ]
    },
    {
     "name": "stderr",
     "output_type": "stream",
     "text": [
      "/usr/local/lib/python3.6/dist-packages/sklearn/utils/deprecation.py:87: FutureWarning: Function safe_indexing is deprecated; safe_indexing is deprecated in version 0.22 and will be removed in version 0.24.\n",
      "  warnings.warn(msg, category=FutureWarning)\n",
      "/usr/local/lib/python3.6/dist-packages/sklearn/utils/deprecation.py:87: FutureWarning: Function safe_indexing is deprecated; safe_indexing is deprecated in version 0.22 and will be removed in version 0.24.\n",
      "  warnings.warn(msg, category=FutureWarning)\n"
     ]
    },
    {
     "name": "stdout",
     "output_type": "stream",
     "text": [
      "0.7966666666666666\n",
      "7\n"
     ]
    },
    {
     "name": "stderr",
     "output_type": "stream",
     "text": [
      "/usr/local/lib/python3.6/dist-packages/sklearn/utils/deprecation.py:87: FutureWarning: Function safe_indexing is deprecated; safe_indexing is deprecated in version 0.22 and will be removed in version 0.24.\n",
      "  warnings.warn(msg, category=FutureWarning)\n",
      "/usr/local/lib/python3.6/dist-packages/sklearn/utils/deprecation.py:87: FutureWarning: Function safe_indexing is deprecated; safe_indexing is deprecated in version 0.22 and will be removed in version 0.24.\n",
      "  warnings.warn(msg, category=FutureWarning)\n"
     ]
    },
    {
     "name": "stdout",
     "output_type": "stream",
     "text": [
      "0.8316666666666667\n",
      "8\n"
     ]
    },
    {
     "name": "stderr",
     "output_type": "stream",
     "text": [
      "/usr/local/lib/python3.6/dist-packages/sklearn/utils/deprecation.py:87: FutureWarning: Function safe_indexing is deprecated; safe_indexing is deprecated in version 0.22 and will be removed in version 0.24.\n",
      "  warnings.warn(msg, category=FutureWarning)\n",
      "/usr/local/lib/python3.6/dist-packages/sklearn/utils/deprecation.py:87: FutureWarning: Function safe_indexing is deprecated; safe_indexing is deprecated in version 0.22 and will be removed in version 0.24.\n",
      "  warnings.warn(msg, category=FutureWarning)\n"
     ]
    },
    {
     "name": "stdout",
     "output_type": "stream",
     "text": [
      "0.7516666666666667\n",
      "9\n"
     ]
    },
    {
     "name": "stderr",
     "output_type": "stream",
     "text": [
      "/usr/local/lib/python3.6/dist-packages/sklearn/utils/deprecation.py:87: FutureWarning: Function safe_indexing is deprecated; safe_indexing is deprecated in version 0.22 and will be removed in version 0.24.\n",
      "  warnings.warn(msg, category=FutureWarning)\n",
      "/usr/local/lib/python3.6/dist-packages/sklearn/utils/deprecation.py:87: FutureWarning: Function safe_indexing is deprecated; safe_indexing is deprecated in version 0.22 and will be removed in version 0.24.\n",
      "  warnings.warn(msg, category=FutureWarning)\n"
     ]
    },
    {
     "name": "stdout",
     "output_type": "stream",
     "text": [
      "0.7666666666666667\n",
      "10\n"
     ]
    },
    {
     "name": "stderr",
     "output_type": "stream",
     "text": [
      "/usr/local/lib/python3.6/dist-packages/sklearn/utils/deprecation.py:87: FutureWarning: Function safe_indexing is deprecated; safe_indexing is deprecated in version 0.22 and will be removed in version 0.24.\n",
      "  warnings.warn(msg, category=FutureWarning)\n",
      "/usr/local/lib/python3.6/dist-packages/sklearn/utils/deprecation.py:87: FutureWarning: Function safe_indexing is deprecated; safe_indexing is deprecated in version 0.22 and will be removed in version 0.24.\n",
      "  warnings.warn(msg, category=FutureWarning)\n"
     ]
    },
    {
     "name": "stdout",
     "output_type": "stream",
     "text": [
      "0.8383333333333334\n"
     ]
    }
   ],
   "source": [
    "rbf_svm_scores = []\n",
    "\n",
    "tmp = list(range(0,4800,400))\n",
    "X_Hold_out = [] #Holdout = testing | Max\n",
    "X_CV=[]\n",
    "Y_Hold_out = []\n",
    "Y_CV=[]\n",
    "for i in range(len(tmp)-1):\n",
    "    X_Hold_out+=[X[tmp[i]:tmp[i+1]]]\n",
    "    Y_Hold_out+=[Y[tmp[i]:tmp[i+1]]]\n",
    "    X_CV += [np.concatenate((X[0:tmp[i]],X[tmp[i+1]:]))]\n",
    "    Y_CV += [np.concatenate((Y[0:tmp[i]],Y[tmp[i+1]:]))]\n",
    "N_Leave_One_Subject = len(tmp)-1\n",
    "\n",
    "\n",
    "for leave_one_idx in range(N_Leave_One_Subject): \n",
    "    print(leave_one_idx)\n",
    "    X_train = X_CV[leave_one_idx] # 300 refers to N_features\n",
    "    Y_train = Y_CV[leave_one_idx].reshape(-1,1)\n",
    "    X_test = X_Hold_out[leave_one_idx]\n",
    "    Y_test = Y_Hold_out[leave_one_idx]\n",
    "\n",
    "    scaler = preprocessing.StandardScaler().fit(X_train)\n",
    "    X_train = scaler.transform(X_train).reshape(-1,300,1)\n",
    "    X_test = scaler.transform(X_test).reshape(-1,300,1)\n",
    "\n",
    "    X_train, Y_train = RandomOverSampler(random_state=0).fit_resample(X_train.reshape(-1,300),Y_train.flatten())\n",
    "    X_test, Y_test = RandomOverSampler(random_state=0).fit_resample(X_test.reshape(-1,300),Y_test.flatten())\n",
    "\n",
    "    svm_rbf = SVC(kernel='rbf')\n",
    "    svm_rbf.fit(X_train,Y_train)\n",
    "    rbf_svm_scores.append(svm_rbf.score(X_test,Y_test))\n",
    "    print(rbf_svm_scores[-1])\n",
    "\n",
    "\n"
   ]
  },
  {
   "cell_type": "code",
   "execution_count": null,
   "metadata": {
    "colab": {
     "base_uri": "https://localhost:8080/",
     "height": 1000
    },
    "executionInfo": {
     "elapsed": 101572,
     "status": "ok",
     "timestamp": 1601439643893,
     "user": {
      "displayName": "Maxime Tchibozo",
      "photoUrl": "",
      "userId": "01215953581360341724"
     },
     "user_tz": 240
    },
    "id": "EnoBUGVhzYD6",
    "outputId": "bda99fa5-1761-4794-890a-17fcc7501677"
   },
   "outputs": [
    {
     "name": "stdout",
     "output_type": "stream",
     "text": [
      "0\n"
     ]
    },
    {
     "name": "stderr",
     "output_type": "stream",
     "text": [
      "/usr/local/lib/python3.6/dist-packages/sklearn/utils/deprecation.py:87: FutureWarning: Function safe_indexing is deprecated; safe_indexing is deprecated in version 0.22 and will be removed in version 0.24.\n",
      "  warnings.warn(msg, category=FutureWarning)\n",
      "/usr/local/lib/python3.6/dist-packages/sklearn/utils/deprecation.py:87: FutureWarning: Function safe_indexing is deprecated; safe_indexing is deprecated in version 0.22 and will be removed in version 0.24.\n",
      "  warnings.warn(msg, category=FutureWarning)\n",
      "/usr/local/lib/python3.6/dist-packages/sklearn/svm/_base.py:947: ConvergenceWarning: Liblinear failed to converge, increase the number of iterations.\n",
      "  \"the number of iterations.\", ConvergenceWarning)\n",
      "/usr/local/lib/python3.6/dist-packages/sklearn/utils/deprecation.py:87: FutureWarning: Function safe_indexing is deprecated; safe_indexing is deprecated in version 0.22 and will be removed in version 0.24.\n",
      "  warnings.warn(msg, category=FutureWarning)\n",
      "/usr/local/lib/python3.6/dist-packages/sklearn/utils/deprecation.py:87: FutureWarning: Function safe_indexing is deprecated; safe_indexing is deprecated in version 0.22 and will be removed in version 0.24.\n",
      "  warnings.warn(msg, category=FutureWarning)\n"
     ]
    },
    {
     "name": "stdout",
     "output_type": "stream",
     "text": [
      "0.7633333333333333\n",
      "1\n"
     ]
    },
    {
     "name": "stderr",
     "output_type": "stream",
     "text": [
      "/usr/local/lib/python3.6/dist-packages/sklearn/svm/_base.py:947: ConvergenceWarning: Liblinear failed to converge, increase the number of iterations.\n",
      "  \"the number of iterations.\", ConvergenceWarning)\n",
      "/usr/local/lib/python3.6/dist-packages/sklearn/utils/deprecation.py:87: FutureWarning: Function safe_indexing is deprecated; safe_indexing is deprecated in version 0.22 and will be removed in version 0.24.\n",
      "  warnings.warn(msg, category=FutureWarning)\n",
      "/usr/local/lib/python3.6/dist-packages/sklearn/utils/deprecation.py:87: FutureWarning: Function safe_indexing is deprecated; safe_indexing is deprecated in version 0.22 and will be removed in version 0.24.\n",
      "  warnings.warn(msg, category=FutureWarning)\n"
     ]
    },
    {
     "name": "stdout",
     "output_type": "stream",
     "text": [
      "0.7633333333333333\n",
      "2\n"
     ]
    },
    {
     "name": "stderr",
     "output_type": "stream",
     "text": [
      "/usr/local/lib/python3.6/dist-packages/sklearn/svm/_base.py:947: ConvergenceWarning: Liblinear failed to converge, increase the number of iterations.\n",
      "  \"the number of iterations.\", ConvergenceWarning)\n",
      "/usr/local/lib/python3.6/dist-packages/sklearn/utils/deprecation.py:87: FutureWarning: Function safe_indexing is deprecated; safe_indexing is deprecated in version 0.22 and will be removed in version 0.24.\n",
      "  warnings.warn(msg, category=FutureWarning)\n",
      "/usr/local/lib/python3.6/dist-packages/sklearn/utils/deprecation.py:87: FutureWarning: Function safe_indexing is deprecated; safe_indexing is deprecated in version 0.22 and will be removed in version 0.24.\n",
      "  warnings.warn(msg, category=FutureWarning)\n"
     ]
    },
    {
     "name": "stdout",
     "output_type": "stream",
     "text": [
      "0.7533333333333333\n",
      "3\n"
     ]
    },
    {
     "name": "stderr",
     "output_type": "stream",
     "text": [
      "/usr/local/lib/python3.6/dist-packages/sklearn/svm/_base.py:947: ConvergenceWarning: Liblinear failed to converge, increase the number of iterations.\n",
      "  \"the number of iterations.\", ConvergenceWarning)\n",
      "/usr/local/lib/python3.6/dist-packages/sklearn/utils/deprecation.py:87: FutureWarning: Function safe_indexing is deprecated; safe_indexing is deprecated in version 0.22 and will be removed in version 0.24.\n",
      "  warnings.warn(msg, category=FutureWarning)\n",
      "/usr/local/lib/python3.6/dist-packages/sklearn/utils/deprecation.py:87: FutureWarning: Function safe_indexing is deprecated; safe_indexing is deprecated in version 0.22 and will be removed in version 0.24.\n",
      "  warnings.warn(msg, category=FutureWarning)\n"
     ]
    },
    {
     "name": "stdout",
     "output_type": "stream",
     "text": [
      "0.7666666666666667\n",
      "4\n"
     ]
    },
    {
     "name": "stderr",
     "output_type": "stream",
     "text": [
      "/usr/local/lib/python3.6/dist-packages/sklearn/svm/_base.py:947: ConvergenceWarning: Liblinear failed to converge, increase the number of iterations.\n",
      "  \"the number of iterations.\", ConvergenceWarning)\n",
      "/usr/local/lib/python3.6/dist-packages/sklearn/utils/deprecation.py:87: FutureWarning: Function safe_indexing is deprecated; safe_indexing is deprecated in version 0.22 and will be removed in version 0.24.\n",
      "  warnings.warn(msg, category=FutureWarning)\n",
      "/usr/local/lib/python3.6/dist-packages/sklearn/utils/deprecation.py:87: FutureWarning: Function safe_indexing is deprecated; safe_indexing is deprecated in version 0.22 and will be removed in version 0.24.\n",
      "  warnings.warn(msg, category=FutureWarning)\n"
     ]
    },
    {
     "name": "stdout",
     "output_type": "stream",
     "text": [
      "0.715\n",
      "5\n"
     ]
    },
    {
     "name": "stderr",
     "output_type": "stream",
     "text": [
      "/usr/local/lib/python3.6/dist-packages/sklearn/svm/_base.py:947: ConvergenceWarning: Liblinear failed to converge, increase the number of iterations.\n",
      "  \"the number of iterations.\", ConvergenceWarning)\n",
      "/usr/local/lib/python3.6/dist-packages/sklearn/utils/deprecation.py:87: FutureWarning: Function safe_indexing is deprecated; safe_indexing is deprecated in version 0.22 and will be removed in version 0.24.\n",
      "  warnings.warn(msg, category=FutureWarning)\n",
      "/usr/local/lib/python3.6/dist-packages/sklearn/utils/deprecation.py:87: FutureWarning: Function safe_indexing is deprecated; safe_indexing is deprecated in version 0.22 and will be removed in version 0.24.\n",
      "  warnings.warn(msg, category=FutureWarning)\n"
     ]
    },
    {
     "name": "stdout",
     "output_type": "stream",
     "text": [
      "0.7583333333333333\n",
      "6\n"
     ]
    },
    {
     "name": "stderr",
     "output_type": "stream",
     "text": [
      "/usr/local/lib/python3.6/dist-packages/sklearn/svm/_base.py:947: ConvergenceWarning: Liblinear failed to converge, increase the number of iterations.\n",
      "  \"the number of iterations.\", ConvergenceWarning)\n",
      "/usr/local/lib/python3.6/dist-packages/sklearn/utils/deprecation.py:87: FutureWarning: Function safe_indexing is deprecated; safe_indexing is deprecated in version 0.22 and will be removed in version 0.24.\n",
      "  warnings.warn(msg, category=FutureWarning)\n",
      "/usr/local/lib/python3.6/dist-packages/sklearn/utils/deprecation.py:87: FutureWarning: Function safe_indexing is deprecated; safe_indexing is deprecated in version 0.22 and will be removed in version 0.24.\n",
      "  warnings.warn(msg, category=FutureWarning)\n"
     ]
    },
    {
     "name": "stdout",
     "output_type": "stream",
     "text": [
      "0.715\n",
      "7\n"
     ]
    },
    {
     "name": "stderr",
     "output_type": "stream",
     "text": [
      "/usr/local/lib/python3.6/dist-packages/sklearn/svm/_base.py:947: ConvergenceWarning: Liblinear failed to converge, increase the number of iterations.\n",
      "  \"the number of iterations.\", ConvergenceWarning)\n",
      "/usr/local/lib/python3.6/dist-packages/sklearn/utils/deprecation.py:87: FutureWarning: Function safe_indexing is deprecated; safe_indexing is deprecated in version 0.22 and will be removed in version 0.24.\n",
      "  warnings.warn(msg, category=FutureWarning)\n",
      "/usr/local/lib/python3.6/dist-packages/sklearn/utils/deprecation.py:87: FutureWarning: Function safe_indexing is deprecated; safe_indexing is deprecated in version 0.22 and will be removed in version 0.24.\n",
      "  warnings.warn(msg, category=FutureWarning)\n"
     ]
    },
    {
     "name": "stdout",
     "output_type": "stream",
     "text": [
      "0.7733333333333333\n",
      "8\n"
     ]
    },
    {
     "name": "stderr",
     "output_type": "stream",
     "text": [
      "/usr/local/lib/python3.6/dist-packages/sklearn/svm/_base.py:947: ConvergenceWarning: Liblinear failed to converge, increase the number of iterations.\n",
      "  \"the number of iterations.\", ConvergenceWarning)\n",
      "/usr/local/lib/python3.6/dist-packages/sklearn/utils/deprecation.py:87: FutureWarning: Function safe_indexing is deprecated; safe_indexing is deprecated in version 0.22 and will be removed in version 0.24.\n",
      "  warnings.warn(msg, category=FutureWarning)\n",
      "/usr/local/lib/python3.6/dist-packages/sklearn/utils/deprecation.py:87: FutureWarning: Function safe_indexing is deprecated; safe_indexing is deprecated in version 0.22 and will be removed in version 0.24.\n",
      "  warnings.warn(msg, category=FutureWarning)\n"
     ]
    },
    {
     "name": "stdout",
     "output_type": "stream",
     "text": [
      "0.7466666666666667\n",
      "9\n"
     ]
    },
    {
     "name": "stderr",
     "output_type": "stream",
     "text": [
      "/usr/local/lib/python3.6/dist-packages/sklearn/svm/_base.py:947: ConvergenceWarning: Liblinear failed to converge, increase the number of iterations.\n",
      "  \"the number of iterations.\", ConvergenceWarning)\n",
      "/usr/local/lib/python3.6/dist-packages/sklearn/utils/deprecation.py:87: FutureWarning: Function safe_indexing is deprecated; safe_indexing is deprecated in version 0.22 and will be removed in version 0.24.\n",
      "  warnings.warn(msg, category=FutureWarning)\n",
      "/usr/local/lib/python3.6/dist-packages/sklearn/utils/deprecation.py:87: FutureWarning: Function safe_indexing is deprecated; safe_indexing is deprecated in version 0.22 and will be removed in version 0.24.\n",
      "  warnings.warn(msg, category=FutureWarning)\n"
     ]
    },
    {
     "name": "stdout",
     "output_type": "stream",
     "text": [
      "0.75\n",
      "10\n",
      "0.715\n"
     ]
    },
    {
     "name": "stderr",
     "output_type": "stream",
     "text": [
      "/usr/local/lib/python3.6/dist-packages/sklearn/svm/_base.py:947: ConvergenceWarning: Liblinear failed to converge, increase the number of iterations.\n",
      "  \"the number of iterations.\", ConvergenceWarning)\n"
     ]
    }
   ],
   "source": [
    "linear_svm_scores = []\n",
    "\n",
    "\n",
    "for leave_one_idx in range(N_Leave_One_Subject): \n",
    "    print(leave_one_idx)\n",
    "    X_train = X_CV[leave_one_idx] # 300 refers to N_features\n",
    "    Y_train = Y_CV[leave_one_idx].reshape(-1,1)\n",
    "    X_test = X_Hold_out[leave_one_idx]\n",
    "    Y_test = Y_Hold_out[leave_one_idx]\n",
    "\n",
    "    scaler = preprocessing.StandardScaler().fit(X_train)\n",
    "    X_train = scaler.transform(X_train).reshape(-1,300,1)\n",
    "    X_test = scaler.transform(X_test).reshape(-1,300,1)\n",
    "\n",
    "    X_train, Y_train = RandomOverSampler(random_state=0).fit_resample(X_train.reshape(-1,300),Y_train.flatten())\n",
    "    X_test, Y_test = RandomOverSampler(random_state=0).fit_resample(X_test.reshape(-1,300),Y_test.flatten())\n",
    "\n",
    "    svm_linear = LinearSVC()\n",
    "    svm_linear.fit(X_train,Y_train)\n",
    "    linear_svm_scores.append(svm_linear.score(X_test,Y_test))\n",
    "    print(linear_svm_scores[-1])"
   ]
  },
  {
   "cell_type": "code",
   "execution_count": null,
   "metadata": {
    "colab": {
     "base_uri": "https://localhost:8080/",
     "height": 1000
    },
    "executionInfo": {
     "elapsed": 73152,
     "status": "ok",
     "timestamp": 1601439883249,
     "user": {
      "displayName": "Maxime Tchibozo",
      "photoUrl": "",
      "userId": "01215953581360341724"
     },
     "user_tz": 240
    },
    "id": "FOUrPhbBuYfZ",
    "outputId": "3a4cc4e1-9b80-4319-f848-38f985bcc7d0"
   },
   "outputs": [
    {
     "name": "stdout",
     "output_type": "stream",
     "text": [
      "0\n"
     ]
    },
    {
     "name": "stderr",
     "output_type": "stream",
     "text": [
      "/usr/local/lib/python3.6/dist-packages/sklearn/utils/deprecation.py:87: FutureWarning: Function safe_indexing is deprecated; safe_indexing is deprecated in version 0.22 and will be removed in version 0.24.\n",
      "  warnings.warn(msg, category=FutureWarning)\n",
      "/usr/local/lib/python3.6/dist-packages/sklearn/utils/deprecation.py:87: FutureWarning: Function safe_indexing is deprecated; safe_indexing is deprecated in version 0.22 and will be removed in version 0.24.\n",
      "  warnings.warn(msg, category=FutureWarning)\n"
     ]
    },
    {
     "name": "stdout",
     "output_type": "stream",
     "text": [
      "0.7233333333333334\n",
      "1\n"
     ]
    },
    {
     "name": "stderr",
     "output_type": "stream",
     "text": [
      "/usr/local/lib/python3.6/dist-packages/sklearn/utils/deprecation.py:87: FutureWarning: Function safe_indexing is deprecated; safe_indexing is deprecated in version 0.22 and will be removed in version 0.24.\n",
      "  warnings.warn(msg, category=FutureWarning)\n",
      "/usr/local/lib/python3.6/dist-packages/sklearn/utils/deprecation.py:87: FutureWarning: Function safe_indexing is deprecated; safe_indexing is deprecated in version 0.22 and will be removed in version 0.24.\n",
      "  warnings.warn(msg, category=FutureWarning)\n"
     ]
    },
    {
     "name": "stdout",
     "output_type": "stream",
     "text": [
      "0.765\n",
      "2\n"
     ]
    },
    {
     "name": "stderr",
     "output_type": "stream",
     "text": [
      "/usr/local/lib/python3.6/dist-packages/sklearn/utils/deprecation.py:87: FutureWarning: Function safe_indexing is deprecated; safe_indexing is deprecated in version 0.22 and will be removed in version 0.24.\n",
      "  warnings.warn(msg, category=FutureWarning)\n",
      "/usr/local/lib/python3.6/dist-packages/sklearn/utils/deprecation.py:87: FutureWarning: Function safe_indexing is deprecated; safe_indexing is deprecated in version 0.22 and will be removed in version 0.24.\n",
      "  warnings.warn(msg, category=FutureWarning)\n"
     ]
    },
    {
     "name": "stdout",
     "output_type": "stream",
     "text": [
      "0.75\n",
      "3\n"
     ]
    },
    {
     "name": "stderr",
     "output_type": "stream",
     "text": [
      "/usr/local/lib/python3.6/dist-packages/sklearn/utils/deprecation.py:87: FutureWarning: Function safe_indexing is deprecated; safe_indexing is deprecated in version 0.22 and will be removed in version 0.24.\n",
      "  warnings.warn(msg, category=FutureWarning)\n",
      "/usr/local/lib/python3.6/dist-packages/sklearn/utils/deprecation.py:87: FutureWarning: Function safe_indexing is deprecated; safe_indexing is deprecated in version 0.22 and will be removed in version 0.24.\n",
      "  warnings.warn(msg, category=FutureWarning)\n"
     ]
    },
    {
     "name": "stdout",
     "output_type": "stream",
     "text": [
      "0.6966666666666667\n",
      "4\n"
     ]
    },
    {
     "name": "stderr",
     "output_type": "stream",
     "text": [
      "/usr/local/lib/python3.6/dist-packages/sklearn/utils/deprecation.py:87: FutureWarning: Function safe_indexing is deprecated; safe_indexing is deprecated in version 0.22 and will be removed in version 0.24.\n",
      "  warnings.warn(msg, category=FutureWarning)\n",
      "/usr/local/lib/python3.6/dist-packages/sklearn/utils/deprecation.py:87: FutureWarning: Function safe_indexing is deprecated; safe_indexing is deprecated in version 0.22 and will be removed in version 0.24.\n",
      "  warnings.warn(msg, category=FutureWarning)\n"
     ]
    },
    {
     "name": "stdout",
     "output_type": "stream",
     "text": [
      "0.6866666666666666\n",
      "5\n"
     ]
    },
    {
     "name": "stderr",
     "output_type": "stream",
     "text": [
      "/usr/local/lib/python3.6/dist-packages/sklearn/utils/deprecation.py:87: FutureWarning: Function safe_indexing is deprecated; safe_indexing is deprecated in version 0.22 and will be removed in version 0.24.\n",
      "  warnings.warn(msg, category=FutureWarning)\n",
      "/usr/local/lib/python3.6/dist-packages/sklearn/utils/deprecation.py:87: FutureWarning: Function safe_indexing is deprecated; safe_indexing is deprecated in version 0.22 and will be removed in version 0.24.\n",
      "  warnings.warn(msg, category=FutureWarning)\n"
     ]
    },
    {
     "name": "stdout",
     "output_type": "stream",
     "text": [
      "0.7533333333333333\n",
      "6\n"
     ]
    },
    {
     "name": "stderr",
     "output_type": "stream",
     "text": [
      "/usr/local/lib/python3.6/dist-packages/sklearn/utils/deprecation.py:87: FutureWarning: Function safe_indexing is deprecated; safe_indexing is deprecated in version 0.22 and will be removed in version 0.24.\n",
      "  warnings.warn(msg, category=FutureWarning)\n",
      "/usr/local/lib/python3.6/dist-packages/sklearn/utils/deprecation.py:87: FutureWarning: Function safe_indexing is deprecated; safe_indexing is deprecated in version 0.22 and will be removed in version 0.24.\n",
      "  warnings.warn(msg, category=FutureWarning)\n"
     ]
    },
    {
     "name": "stdout",
     "output_type": "stream",
     "text": [
      "0.7566666666666667\n",
      "7\n"
     ]
    },
    {
     "name": "stderr",
     "output_type": "stream",
     "text": [
      "/usr/local/lib/python3.6/dist-packages/sklearn/utils/deprecation.py:87: FutureWarning: Function safe_indexing is deprecated; safe_indexing is deprecated in version 0.22 and will be removed in version 0.24.\n",
      "  warnings.warn(msg, category=FutureWarning)\n",
      "/usr/local/lib/python3.6/dist-packages/sklearn/utils/deprecation.py:87: FutureWarning: Function safe_indexing is deprecated; safe_indexing is deprecated in version 0.22 and will be removed in version 0.24.\n",
      "  warnings.warn(msg, category=FutureWarning)\n"
     ]
    },
    {
     "name": "stdout",
     "output_type": "stream",
     "text": [
      "0.7433333333333333\n",
      "8\n"
     ]
    },
    {
     "name": "stderr",
     "output_type": "stream",
     "text": [
      "/usr/local/lib/python3.6/dist-packages/sklearn/utils/deprecation.py:87: FutureWarning: Function safe_indexing is deprecated; safe_indexing is deprecated in version 0.22 and will be removed in version 0.24.\n",
      "  warnings.warn(msg, category=FutureWarning)\n",
      "/usr/local/lib/python3.6/dist-packages/sklearn/utils/deprecation.py:87: FutureWarning: Function safe_indexing is deprecated; safe_indexing is deprecated in version 0.22 and will be removed in version 0.24.\n",
      "  warnings.warn(msg, category=FutureWarning)\n"
     ]
    },
    {
     "name": "stdout",
     "output_type": "stream",
     "text": [
      "0.7116666666666667\n",
      "9\n"
     ]
    },
    {
     "name": "stderr",
     "output_type": "stream",
     "text": [
      "/usr/local/lib/python3.6/dist-packages/sklearn/utils/deprecation.py:87: FutureWarning: Function safe_indexing is deprecated; safe_indexing is deprecated in version 0.22 and will be removed in version 0.24.\n",
      "  warnings.warn(msg, category=FutureWarning)\n",
      "/usr/local/lib/python3.6/dist-packages/sklearn/utils/deprecation.py:87: FutureWarning: Function safe_indexing is deprecated; safe_indexing is deprecated in version 0.22 and will be removed in version 0.24.\n",
      "  warnings.warn(msg, category=FutureWarning)\n"
     ]
    },
    {
     "name": "stdout",
     "output_type": "stream",
     "text": [
      "0.7283333333333334\n",
      "10\n"
     ]
    },
    {
     "name": "stderr",
     "output_type": "stream",
     "text": [
      "/usr/local/lib/python3.6/dist-packages/sklearn/utils/deprecation.py:87: FutureWarning: Function safe_indexing is deprecated; safe_indexing is deprecated in version 0.22 and will be removed in version 0.24.\n",
      "  warnings.warn(msg, category=FutureWarning)\n",
      "/usr/local/lib/python3.6/dist-packages/sklearn/utils/deprecation.py:87: FutureWarning: Function safe_indexing is deprecated; safe_indexing is deprecated in version 0.22 and will be removed in version 0.24.\n",
      "  warnings.warn(msg, category=FutureWarning)\n"
     ]
    },
    {
     "name": "stdout",
     "output_type": "stream",
     "text": [
      "0.82\n"
     ]
    }
   ],
   "source": [
    "random_forest_scores = []\n",
    "\n",
    "\n",
    "for leave_one_idx in range(N_Leave_One_Subject): \n",
    "    print(leave_one_idx)\n",
    "    X_train = X_CV[leave_one_idx] # 300 refers to N_features\n",
    "    Y_train = Y_CV[leave_one_idx].reshape(-1,1)\n",
    "    X_test = X_Hold_out[leave_one_idx]\n",
    "    Y_test = Y_Hold_out[leave_one_idx]\n",
    "\n",
    "    scaler = preprocessing.StandardScaler().fit(X_train)\n",
    "    X_train = scaler.transform(X_train).reshape(-1,300,1)\n",
    "    X_test = scaler.transform(X_test).reshape(-1,300,1)\n",
    "\n",
    "    X_train, Y_train = RandomOverSampler(random_state=0).fit_resample(X_train.reshape(-1,300),Y_train.flatten())\n",
    "    X_test, Y_test = RandomOverSampler(random_state=0).fit_resample(X_test.reshape(-1,300),Y_test.flatten())\n",
    "\n",
    "    random_forest = RandomForestClassifier()\n",
    "    random_forest.fit(X_train,Y_train)\n",
    "    random_forest_scores.append(random_forest.score(X_test,Y_test))\n",
    "    print(random_forest_scores[-1])"
   ]
  },
  {
   "cell_type": "code",
   "execution_count": null,
   "metadata": {
    "colab": {
     "base_uri": "https://localhost:8080/",
     "height": 1000
    },
    "executionInfo": {
     "elapsed": 314782,
     "status": "ok",
     "timestamp": 1601440538433,
     "user": {
      "displayName": "Maxime Tchibozo",
      "photoUrl": "",
      "userId": "01215953581360341724"
     },
     "user_tz": 240
    },
    "id": "LxEvpBG6EBN9",
    "outputId": "ee767668-0e4c-45bf-f157-0cf29fc53b90"
   },
   "outputs": [
    {
     "name": "stdout",
     "output_type": "stream",
     "text": [
      "0\n"
     ]
    },
    {
     "name": "stderr",
     "output_type": "stream",
     "text": [
      "/usr/local/lib/python3.6/dist-packages/sklearn/utils/deprecation.py:87: FutureWarning: Function safe_indexing is deprecated; safe_indexing is deprecated in version 0.22 and will be removed in version 0.24.\n",
      "  warnings.warn(msg, category=FutureWarning)\n",
      "/usr/local/lib/python3.6/dist-packages/sklearn/utils/deprecation.py:87: FutureWarning: Function safe_indexing is deprecated; safe_indexing is deprecated in version 0.22 and will be removed in version 0.24.\n",
      "  warnings.warn(msg, category=FutureWarning)\n"
     ]
    },
    {
     "name": "stdout",
     "output_type": "stream",
     "text": [
      "0.7183333333333334\n",
      "1\n"
     ]
    },
    {
     "name": "stderr",
     "output_type": "stream",
     "text": [
      "/usr/local/lib/python3.6/dist-packages/sklearn/utils/deprecation.py:87: FutureWarning: Function safe_indexing is deprecated; safe_indexing is deprecated in version 0.22 and will be removed in version 0.24.\n",
      "  warnings.warn(msg, category=FutureWarning)\n",
      "/usr/local/lib/python3.6/dist-packages/sklearn/utils/deprecation.py:87: FutureWarning: Function safe_indexing is deprecated; safe_indexing is deprecated in version 0.22 and will be removed in version 0.24.\n",
      "  warnings.warn(msg, category=FutureWarning)\n"
     ]
    },
    {
     "name": "stdout",
     "output_type": "stream",
     "text": [
      "0.76\n",
      "2\n"
     ]
    },
    {
     "name": "stderr",
     "output_type": "stream",
     "text": [
      "/usr/local/lib/python3.6/dist-packages/sklearn/utils/deprecation.py:87: FutureWarning: Function safe_indexing is deprecated; safe_indexing is deprecated in version 0.22 and will be removed in version 0.24.\n",
      "  warnings.warn(msg, category=FutureWarning)\n",
      "/usr/local/lib/python3.6/dist-packages/sklearn/utils/deprecation.py:87: FutureWarning: Function safe_indexing is deprecated; safe_indexing is deprecated in version 0.22 and will be removed in version 0.24.\n",
      "  warnings.warn(msg, category=FutureWarning)\n"
     ]
    },
    {
     "name": "stdout",
     "output_type": "stream",
     "text": [
      "0.7366666666666667\n",
      "3\n"
     ]
    },
    {
     "name": "stderr",
     "output_type": "stream",
     "text": [
      "/usr/local/lib/python3.6/dist-packages/sklearn/utils/deprecation.py:87: FutureWarning: Function safe_indexing is deprecated; safe_indexing is deprecated in version 0.22 and will be removed in version 0.24.\n",
      "  warnings.warn(msg, category=FutureWarning)\n",
      "/usr/local/lib/python3.6/dist-packages/sklearn/utils/deprecation.py:87: FutureWarning: Function safe_indexing is deprecated; safe_indexing is deprecated in version 0.22 and will be removed in version 0.24.\n",
      "  warnings.warn(msg, category=FutureWarning)\n"
     ]
    },
    {
     "name": "stdout",
     "output_type": "stream",
     "text": [
      "0.7333333333333333\n",
      "4\n"
     ]
    },
    {
     "name": "stderr",
     "output_type": "stream",
     "text": [
      "/usr/local/lib/python3.6/dist-packages/sklearn/utils/deprecation.py:87: FutureWarning: Function safe_indexing is deprecated; safe_indexing is deprecated in version 0.22 and will be removed in version 0.24.\n",
      "  warnings.warn(msg, category=FutureWarning)\n",
      "/usr/local/lib/python3.6/dist-packages/sklearn/utils/deprecation.py:87: FutureWarning: Function safe_indexing is deprecated; safe_indexing is deprecated in version 0.22 and will be removed in version 0.24.\n",
      "  warnings.warn(msg, category=FutureWarning)\n"
     ]
    },
    {
     "name": "stdout",
     "output_type": "stream",
     "text": [
      "0.7\n",
      "5\n"
     ]
    },
    {
     "name": "stderr",
     "output_type": "stream",
     "text": [
      "/usr/local/lib/python3.6/dist-packages/sklearn/utils/deprecation.py:87: FutureWarning: Function safe_indexing is deprecated; safe_indexing is deprecated in version 0.22 and will be removed in version 0.24.\n",
      "  warnings.warn(msg, category=FutureWarning)\n",
      "/usr/local/lib/python3.6/dist-packages/sklearn/utils/deprecation.py:87: FutureWarning: Function safe_indexing is deprecated; safe_indexing is deprecated in version 0.22 and will be removed in version 0.24.\n",
      "  warnings.warn(msg, category=FutureWarning)\n"
     ]
    },
    {
     "name": "stdout",
     "output_type": "stream",
     "text": [
      "0.765\n",
      "6\n"
     ]
    },
    {
     "name": "stderr",
     "output_type": "stream",
     "text": [
      "/usr/local/lib/python3.6/dist-packages/sklearn/utils/deprecation.py:87: FutureWarning: Function safe_indexing is deprecated; safe_indexing is deprecated in version 0.22 and will be removed in version 0.24.\n",
      "  warnings.warn(msg, category=FutureWarning)\n",
      "/usr/local/lib/python3.6/dist-packages/sklearn/utils/deprecation.py:87: FutureWarning: Function safe_indexing is deprecated; safe_indexing is deprecated in version 0.22 and will be removed in version 0.24.\n",
      "  warnings.warn(msg, category=FutureWarning)\n"
     ]
    },
    {
     "name": "stdout",
     "output_type": "stream",
     "text": [
      "0.7533333333333333\n",
      "7\n"
     ]
    },
    {
     "name": "stderr",
     "output_type": "stream",
     "text": [
      "/usr/local/lib/python3.6/dist-packages/sklearn/utils/deprecation.py:87: FutureWarning: Function safe_indexing is deprecated; safe_indexing is deprecated in version 0.22 and will be removed in version 0.24.\n",
      "  warnings.warn(msg, category=FutureWarning)\n",
      "/usr/local/lib/python3.6/dist-packages/sklearn/utils/deprecation.py:87: FutureWarning: Function safe_indexing is deprecated; safe_indexing is deprecated in version 0.22 and will be removed in version 0.24.\n",
      "  warnings.warn(msg, category=FutureWarning)\n"
     ]
    },
    {
     "name": "stdout",
     "output_type": "stream",
     "text": [
      "0.7433333333333333\n",
      "8\n"
     ]
    },
    {
     "name": "stderr",
     "output_type": "stream",
     "text": [
      "/usr/local/lib/python3.6/dist-packages/sklearn/utils/deprecation.py:87: FutureWarning: Function safe_indexing is deprecated; safe_indexing is deprecated in version 0.22 and will be removed in version 0.24.\n",
      "  warnings.warn(msg, category=FutureWarning)\n",
      "/usr/local/lib/python3.6/dist-packages/sklearn/utils/deprecation.py:87: FutureWarning: Function safe_indexing is deprecated; safe_indexing is deprecated in version 0.22 and will be removed in version 0.24.\n",
      "  warnings.warn(msg, category=FutureWarning)\n"
     ]
    },
    {
     "name": "stdout",
     "output_type": "stream",
     "text": [
      "0.7783333333333333\n",
      "9\n"
     ]
    },
    {
     "name": "stderr",
     "output_type": "stream",
     "text": [
      "/usr/local/lib/python3.6/dist-packages/sklearn/utils/deprecation.py:87: FutureWarning: Function safe_indexing is deprecated; safe_indexing is deprecated in version 0.22 and will be removed in version 0.24.\n",
      "  warnings.warn(msg, category=FutureWarning)\n",
      "/usr/local/lib/python3.6/dist-packages/sklearn/utils/deprecation.py:87: FutureWarning: Function safe_indexing is deprecated; safe_indexing is deprecated in version 0.22 and will be removed in version 0.24.\n",
      "  warnings.warn(msg, category=FutureWarning)\n"
     ]
    },
    {
     "name": "stdout",
     "output_type": "stream",
     "text": [
      "0.7216666666666667\n",
      "10\n"
     ]
    },
    {
     "name": "stderr",
     "output_type": "stream",
     "text": [
      "/usr/local/lib/python3.6/dist-packages/sklearn/utils/deprecation.py:87: FutureWarning: Function safe_indexing is deprecated; safe_indexing is deprecated in version 0.22 and will be removed in version 0.24.\n",
      "  warnings.warn(msg, category=FutureWarning)\n",
      "/usr/local/lib/python3.6/dist-packages/sklearn/utils/deprecation.py:87: FutureWarning: Function safe_indexing is deprecated; safe_indexing is deprecated in version 0.22 and will be removed in version 0.24.\n",
      "  warnings.warn(msg, category=FutureWarning)\n"
     ]
    },
    {
     "name": "stdout",
     "output_type": "stream",
     "text": [
      "0.815\n"
     ]
    }
   ],
   "source": [
    "\n",
    "xgb_scores = []\n",
    "\n",
    "\n",
    "for leave_one_idx in range(N_Leave_One_Subject): \n",
    "    print(leave_one_idx)\n",
    "    X_train = X_CV[leave_one_idx] # 300 refers to N_features\n",
    "    Y_train = Y_CV[leave_one_idx].reshape(-1,1)\n",
    "    X_test = X_Hold_out[leave_one_idx]\n",
    "    Y_test = Y_Hold_out[leave_one_idx]\n",
    "\n",
    "    scaler = preprocessing.StandardScaler().fit(X_train)\n",
    "    X_train = scaler.transform(X_train).reshape(-1,300,1)\n",
    "    X_test = scaler.transform(X_test).reshape(-1,300,1)\n",
    "\n",
    "    X_train, Y_train = RandomOverSampler(random_state=0).fit_resample(X_train.reshape(-1,300),Y_train.flatten())\n",
    "    X_test, Y_test = RandomOverSampler(random_state=0).fit_resample(X_test.reshape(-1,300),Y_test.flatten())\n",
    "\n",
    "    xgb_model = XGBClassifier()\n",
    "    xgb_model.fit(X_train,Y_train)\n",
    "    xgb_scores.append(xgb_model.score(X_test,Y_test))\n",
    "    print(xgb_scores[-1])\n"
   ]
  },
  {
   "cell_type": "code",
   "execution_count": null,
   "metadata": {
    "colab": {
     "base_uri": "https://localhost:8080/",
     "height": 1000
    },
    "executionInfo": {
     "elapsed": 6078,
     "status": "ok",
     "timestamp": 1601440544930,
     "user": {
      "displayName": "Maxime Tchibozo",
      "photoUrl": "",
      "userId": "01215953581360341724"
     },
     "user_tz": 240
    },
    "id": "52pPhtTkQe21",
    "outputId": "0049fbc8-026d-4963-873e-679672e52f9b"
   },
   "outputs": [
    {
     "name": "stdout",
     "output_type": "stream",
     "text": [
      "0\n"
     ]
    },
    {
     "name": "stderr",
     "output_type": "stream",
     "text": [
      "/usr/local/lib/python3.6/dist-packages/sklearn/utils/deprecation.py:87: FutureWarning: Function safe_indexing is deprecated; safe_indexing is deprecated in version 0.22 and will be removed in version 0.24.\n",
      "  warnings.warn(msg, category=FutureWarning)\n",
      "/usr/local/lib/python3.6/dist-packages/sklearn/utils/deprecation.py:87: FutureWarning: Function safe_indexing is deprecated; safe_indexing is deprecated in version 0.22 and will be removed in version 0.24.\n",
      "  warnings.warn(msg, category=FutureWarning)\n"
     ]
    },
    {
     "name": "stdout",
     "output_type": "stream",
     "text": [
      "0.7516666666666667\n",
      "1\n"
     ]
    },
    {
     "name": "stderr",
     "output_type": "stream",
     "text": [
      "/usr/local/lib/python3.6/dist-packages/sklearn/utils/deprecation.py:87: FutureWarning: Function safe_indexing is deprecated; safe_indexing is deprecated in version 0.22 and will be removed in version 0.24.\n",
      "  warnings.warn(msg, category=FutureWarning)\n",
      "/usr/local/lib/python3.6/dist-packages/sklearn/utils/deprecation.py:87: FutureWarning: Function safe_indexing is deprecated; safe_indexing is deprecated in version 0.22 and will be removed in version 0.24.\n",
      "  warnings.warn(msg, category=FutureWarning)\n"
     ]
    },
    {
     "name": "stdout",
     "output_type": "stream",
     "text": [
      "0.735\n",
      "2\n"
     ]
    },
    {
     "name": "stderr",
     "output_type": "stream",
     "text": [
      "/usr/local/lib/python3.6/dist-packages/sklearn/utils/deprecation.py:87: FutureWarning: Function safe_indexing is deprecated; safe_indexing is deprecated in version 0.22 and will be removed in version 0.24.\n",
      "  warnings.warn(msg, category=FutureWarning)\n",
      "/usr/local/lib/python3.6/dist-packages/sklearn/utils/deprecation.py:87: FutureWarning: Function safe_indexing is deprecated; safe_indexing is deprecated in version 0.22 and will be removed in version 0.24.\n",
      "  warnings.warn(msg, category=FutureWarning)\n"
     ]
    },
    {
     "name": "stdout",
     "output_type": "stream",
     "text": [
      "0.735\n",
      "3\n"
     ]
    },
    {
     "name": "stderr",
     "output_type": "stream",
     "text": [
      "/usr/local/lib/python3.6/dist-packages/sklearn/utils/deprecation.py:87: FutureWarning: Function safe_indexing is deprecated; safe_indexing is deprecated in version 0.22 and will be removed in version 0.24.\n",
      "  warnings.warn(msg, category=FutureWarning)\n",
      "/usr/local/lib/python3.6/dist-packages/sklearn/utils/deprecation.py:87: FutureWarning: Function safe_indexing is deprecated; safe_indexing is deprecated in version 0.22 and will be removed in version 0.24.\n",
      "  warnings.warn(msg, category=FutureWarning)\n"
     ]
    },
    {
     "name": "stdout",
     "output_type": "stream",
     "text": [
      "0.7716666666666666\n",
      "4\n"
     ]
    },
    {
     "name": "stderr",
     "output_type": "stream",
     "text": [
      "/usr/local/lib/python3.6/dist-packages/sklearn/utils/deprecation.py:87: FutureWarning: Function safe_indexing is deprecated; safe_indexing is deprecated in version 0.22 and will be removed in version 0.24.\n",
      "  warnings.warn(msg, category=FutureWarning)\n",
      "/usr/local/lib/python3.6/dist-packages/sklearn/utils/deprecation.py:87: FutureWarning: Function safe_indexing is deprecated; safe_indexing is deprecated in version 0.22 and will be removed in version 0.24.\n",
      "  warnings.warn(msg, category=FutureWarning)\n"
     ]
    },
    {
     "name": "stdout",
     "output_type": "stream",
     "text": [
      "0.705\n",
      "5\n"
     ]
    },
    {
     "name": "stderr",
     "output_type": "stream",
     "text": [
      "/usr/local/lib/python3.6/dist-packages/sklearn/utils/deprecation.py:87: FutureWarning: Function safe_indexing is deprecated; safe_indexing is deprecated in version 0.22 and will be removed in version 0.24.\n",
      "  warnings.warn(msg, category=FutureWarning)\n",
      "/usr/local/lib/python3.6/dist-packages/sklearn/utils/deprecation.py:87: FutureWarning: Function safe_indexing is deprecated; safe_indexing is deprecated in version 0.22 and will be removed in version 0.24.\n",
      "  warnings.warn(msg, category=FutureWarning)\n"
     ]
    },
    {
     "name": "stdout",
     "output_type": "stream",
     "text": [
      "0.7783333333333333\n",
      "6\n"
     ]
    },
    {
     "name": "stderr",
     "output_type": "stream",
     "text": [
      "/usr/local/lib/python3.6/dist-packages/sklearn/utils/deprecation.py:87: FutureWarning: Function safe_indexing is deprecated; safe_indexing is deprecated in version 0.22 and will be removed in version 0.24.\n",
      "  warnings.warn(msg, category=FutureWarning)\n",
      "/usr/local/lib/python3.6/dist-packages/sklearn/utils/deprecation.py:87: FutureWarning: Function safe_indexing is deprecated; safe_indexing is deprecated in version 0.22 and will be removed in version 0.24.\n",
      "  warnings.warn(msg, category=FutureWarning)\n"
     ]
    },
    {
     "name": "stdout",
     "output_type": "stream",
     "text": [
      "0.735\n",
      "7\n"
     ]
    },
    {
     "name": "stderr",
     "output_type": "stream",
     "text": [
      "/usr/local/lib/python3.6/dist-packages/sklearn/utils/deprecation.py:87: FutureWarning: Function safe_indexing is deprecated; safe_indexing is deprecated in version 0.22 and will be removed in version 0.24.\n",
      "  warnings.warn(msg, category=FutureWarning)\n",
      "/usr/local/lib/python3.6/dist-packages/sklearn/utils/deprecation.py:87: FutureWarning: Function safe_indexing is deprecated; safe_indexing is deprecated in version 0.22 and will be removed in version 0.24.\n",
      "  warnings.warn(msg, category=FutureWarning)\n"
     ]
    },
    {
     "name": "stdout",
     "output_type": "stream",
     "text": [
      "0.79\n",
      "8\n"
     ]
    },
    {
     "name": "stderr",
     "output_type": "stream",
     "text": [
      "/usr/local/lib/python3.6/dist-packages/sklearn/utils/deprecation.py:87: FutureWarning: Function safe_indexing is deprecated; safe_indexing is deprecated in version 0.22 and will be removed in version 0.24.\n",
      "  warnings.warn(msg, category=FutureWarning)\n",
      "/usr/local/lib/python3.6/dist-packages/sklearn/utils/deprecation.py:87: FutureWarning: Function safe_indexing is deprecated; safe_indexing is deprecated in version 0.22 and will be removed in version 0.24.\n",
      "  warnings.warn(msg, category=FutureWarning)\n"
     ]
    },
    {
     "name": "stdout",
     "output_type": "stream",
     "text": [
      "0.7383333333333333\n",
      "9\n"
     ]
    },
    {
     "name": "stderr",
     "output_type": "stream",
     "text": [
      "/usr/local/lib/python3.6/dist-packages/sklearn/utils/deprecation.py:87: FutureWarning: Function safe_indexing is deprecated; safe_indexing is deprecated in version 0.22 and will be removed in version 0.24.\n",
      "  warnings.warn(msg, category=FutureWarning)\n",
      "/usr/local/lib/python3.6/dist-packages/sklearn/utils/deprecation.py:87: FutureWarning: Function safe_indexing is deprecated; safe_indexing is deprecated in version 0.22 and will be removed in version 0.24.\n",
      "  warnings.warn(msg, category=FutureWarning)\n"
     ]
    },
    {
     "name": "stdout",
     "output_type": "stream",
     "text": [
      "0.7516666666666667\n",
      "10\n"
     ]
    },
    {
     "name": "stderr",
     "output_type": "stream",
     "text": [
      "/usr/local/lib/python3.6/dist-packages/sklearn/utils/deprecation.py:87: FutureWarning: Function safe_indexing is deprecated; safe_indexing is deprecated in version 0.22 and will be removed in version 0.24.\n",
      "  warnings.warn(msg, category=FutureWarning)\n",
      "/usr/local/lib/python3.6/dist-packages/sklearn/utils/deprecation.py:87: FutureWarning: Function safe_indexing is deprecated; safe_indexing is deprecated in version 0.22 and will be removed in version 0.24.\n",
      "  warnings.warn(msg, category=FutureWarning)\n"
     ]
    },
    {
     "name": "stdout",
     "output_type": "stream",
     "text": [
      "0.7416666666666667\n"
     ]
    }
   ],
   "source": [
    "\n",
    "lda_scores = []\n",
    "\n",
    "\n",
    "for leave_one_idx in range(N_Leave_One_Subject): \n",
    "    print(leave_one_idx)\n",
    "    X_train = X_CV[leave_one_idx] # 300 refers to N_features\n",
    "    Y_train = Y_CV[leave_one_idx].reshape(-1,1)\n",
    "    X_test = X_Hold_out[leave_one_idx]\n",
    "    Y_test = Y_Hold_out[leave_one_idx]\n",
    "\n",
    "    scaler = preprocessing.StandardScaler().fit(X_train)\n",
    "    X_train = scaler.transform(X_train).reshape(-1,300,1)\n",
    "    X_test = scaler.transform(X_test).reshape(-1,300,1)\n",
    "\n",
    "    X_train, Y_train = RandomOverSampler(random_state=0).fit_resample(X_train.reshape(-1,300),Y_train.flatten())\n",
    "    X_test, Y_test = RandomOverSampler(random_state=0).fit_resample(X_test.reshape(-1,300),Y_test.flatten())\n",
    "\n",
    "    lda_model = LinearDiscriminantAnalysis()\n",
    "    lda_model.fit(X_train,Y_train)\n",
    "    lda_scores.append(lda_model.score(X_test,Y_test))\n",
    "    print(lda_scores[-1])\n"
   ]
  },
  {
   "cell_type": "code",
   "execution_count": null,
   "metadata": {
    "id": "J4x0law_SgCy"
   },
   "outputs": [],
   "source": [
    "cnn_scores = [0.868,0.853,0.857,0.820,0.747,0.873,0.850,0.868,0.870,0.863,0.870]\n"
   ]
  },
  {
   "cell_type": "code",
   "execution_count": null,
   "metadata": {
    "colab": {
     "base_uri": "https://localhost:8080/",
     "height": 395
    },
    "executionInfo": {
     "elapsed": 463,
     "status": "ok",
     "timestamp": 1601440763948,
     "user": {
      "displayName": "Maxime Tchibozo",
      "photoUrl": "",
      "userId": "01215953581360341724"
     },
     "user_tz": 240
    },
    "id": "-RapdcefTGCx",
    "outputId": "e4217412-181c-4edc-e127-7551d5ab88c3"
   },
   "outputs": [
    {
     "data": {
      "text/html": [
       "<div>\n",
       "<style scoped>\n",
       "    .dataframe tbody tr th:only-of-type {\n",
       "        vertical-align: middle;\n",
       "    }\n",
       "\n",
       "    .dataframe tbody tr th {\n",
       "        vertical-align: top;\n",
       "    }\n",
       "\n",
       "    .dataframe thead th {\n",
       "        text-align: right;\n",
       "    }\n",
       "</style>\n",
       "<table border=\"1\" class=\"dataframe\">\n",
       "  <thead>\n",
       "    <tr style=\"text-align: right;\">\n",
       "      <th></th>\n",
       "      <th>CNN test acc</th>\n",
       "      <th>SVM(Linear) test acc</th>\n",
       "      <th>SVM(rbf) test acc</th>\n",
       "      <th>Random Forest test acc</th>\n",
       "      <th>XGBoost test acc</th>\n",
       "      <th>LDA test acc</th>\n",
       "    </tr>\n",
       "  </thead>\n",
       "  <tbody>\n",
       "    <tr>\n",
       "      <th>0</th>\n",
       "      <td>0.868</td>\n",
       "      <td>0.763333</td>\n",
       "      <td>0.766667</td>\n",
       "      <td>0.723333</td>\n",
       "      <td>0.718333</td>\n",
       "      <td>0.751667</td>\n",
       "    </tr>\n",
       "    <tr>\n",
       "      <th>1</th>\n",
       "      <td>0.853</td>\n",
       "      <td>0.763333</td>\n",
       "      <td>0.830000</td>\n",
       "      <td>0.765000</td>\n",
       "      <td>0.760000</td>\n",
       "      <td>0.735000</td>\n",
       "    </tr>\n",
       "    <tr>\n",
       "      <th>2</th>\n",
       "      <td>0.857</td>\n",
       "      <td>0.753333</td>\n",
       "      <td>0.776667</td>\n",
       "      <td>0.750000</td>\n",
       "      <td>0.736667</td>\n",
       "      <td>0.735000</td>\n",
       "    </tr>\n",
       "    <tr>\n",
       "      <th>3</th>\n",
       "      <td>0.820</td>\n",
       "      <td>0.766667</td>\n",
       "      <td>0.766667</td>\n",
       "      <td>0.696667</td>\n",
       "      <td>0.733333</td>\n",
       "      <td>0.771667</td>\n",
       "    </tr>\n",
       "    <tr>\n",
       "      <th>4</th>\n",
       "      <td>0.747</td>\n",
       "      <td>0.715000</td>\n",
       "      <td>0.706667</td>\n",
       "      <td>0.686667</td>\n",
       "      <td>0.700000</td>\n",
       "      <td>0.705000</td>\n",
       "    </tr>\n",
       "    <tr>\n",
       "      <th>5</th>\n",
       "      <td>0.873</td>\n",
       "      <td>0.758333</td>\n",
       "      <td>0.821667</td>\n",
       "      <td>0.753333</td>\n",
       "      <td>0.765000</td>\n",
       "      <td>0.778333</td>\n",
       "    </tr>\n",
       "    <tr>\n",
       "      <th>6</th>\n",
       "      <td>0.850</td>\n",
       "      <td>0.715000</td>\n",
       "      <td>0.796667</td>\n",
       "      <td>0.756667</td>\n",
       "      <td>0.753333</td>\n",
       "      <td>0.735000</td>\n",
       "    </tr>\n",
       "    <tr>\n",
       "      <th>7</th>\n",
       "      <td>0.868</td>\n",
       "      <td>0.773333</td>\n",
       "      <td>0.831667</td>\n",
       "      <td>0.743333</td>\n",
       "      <td>0.743333</td>\n",
       "      <td>0.790000</td>\n",
       "    </tr>\n",
       "    <tr>\n",
       "      <th>8</th>\n",
       "      <td>0.870</td>\n",
       "      <td>0.746667</td>\n",
       "      <td>0.751667</td>\n",
       "      <td>0.711667</td>\n",
       "      <td>0.778333</td>\n",
       "      <td>0.738333</td>\n",
       "    </tr>\n",
       "    <tr>\n",
       "      <th>9</th>\n",
       "      <td>0.863</td>\n",
       "      <td>0.750000</td>\n",
       "      <td>0.766667</td>\n",
       "      <td>0.728333</td>\n",
       "      <td>0.721667</td>\n",
       "      <td>0.751667</td>\n",
       "    </tr>\n",
       "    <tr>\n",
       "      <th>10</th>\n",
       "      <td>0.870</td>\n",
       "      <td>0.715000</td>\n",
       "      <td>0.838333</td>\n",
       "      <td>0.820000</td>\n",
       "      <td>0.815000</td>\n",
       "      <td>0.741667</td>\n",
       "    </tr>\n",
       "  </tbody>\n",
       "</table>\n",
       "</div>"
      ],
      "text/plain": [
       "    CNN test acc  SVM(Linear) test acc  ...  XGBoost test acc  LDA test acc\n",
       "0          0.868              0.763333  ...          0.718333      0.751667\n",
       "1          0.853              0.763333  ...          0.760000      0.735000\n",
       "2          0.857              0.753333  ...          0.736667      0.735000\n",
       "3          0.820              0.766667  ...          0.733333      0.771667\n",
       "4          0.747              0.715000  ...          0.700000      0.705000\n",
       "5          0.873              0.758333  ...          0.765000      0.778333\n",
       "6          0.850              0.715000  ...          0.753333      0.735000\n",
       "7          0.868              0.773333  ...          0.743333      0.790000\n",
       "8          0.870              0.746667  ...          0.778333      0.738333\n",
       "9          0.863              0.750000  ...          0.721667      0.751667\n",
       "10         0.870              0.715000  ...          0.815000      0.741667\n",
       "\n",
       "[11 rows x 6 columns]"
      ]
     },
     "execution_count": 26,
     "metadata": {
      "tags": []
     },
     "output_type": "execute_result"
    }
   ],
   "source": [
    "pd.DataFrame({'CNN test acc':cnn_scores,'SVM(Linear) test acc':linear_svm_scores,'SVM(rbf) test acc':rbf_svm_scores,'Random Forest test acc':random_forest_scores,'XGBoost test acc':xgb_scores,'LDA test acc':lda_scores})"
   ]
  },
  {
   "cell_type": "code",
   "execution_count": null,
   "metadata": {
    "colab": {
     "base_uri": "https://localhost:8080/",
     "height": 280
    },
    "executionInfo": {
     "elapsed": 332,
     "status": "ok",
     "timestamp": 1601533840476,
     "user": {
      "displayName": "Maxime Tchibozo",
      "photoUrl": "",
      "userId": "01215953581360341724"
     },
     "user_tz": 240
    },
    "id": "vdiXHWeCs77M",
    "outputId": "7666999e-050d-4d3a-ebe4-fe977ac1ee78"
   },
   "outputs": [
    {
     "name": "stdout",
     "output_type": "stream",
     "text": [
      "Model: \"sequential_38\"\n",
      "_________________________________________________________________\n",
      "Layer (type)                 Output Shape              Param #   \n",
      "=================================================================\n",
      "dense_75 (Dense)             (None, 300, 10)           20        \n",
      "_________________________________________________________________\n",
      "flatten_22 (Flatten)         (None, 3000)              0         \n",
      "_________________________________________________________________\n",
      "dense_76 (Dense)             (None, 3)                 9003      \n",
      "=================================================================\n",
      "Total params: 9,023\n",
      "Trainable params: 9,023\n",
      "Non-trainable params: 0\n",
      "_________________________________________________________________\n"
     ]
    }
   ],
   "source": [
    "#**Comparison to the Hanson et al (2004) neural net**\n",
    "#each subject, we created a 10-hidden node, eight-waymulti-class NN classifier. We used the hyperbolic tangent activa-tion transfer function for its hidden nodes, softmax activation\n",
    "\n",
    "import keras\n",
    "def create_model_2():\n",
    "    model = Sequential()\n",
    "    model.add(Dense(10, activation='tanh', input_shape= (300,1)))\n",
    "    model.add(Flatten())\n",
    "    model.add(Dense(3, activation='softmax')) \n",
    "    return model\n",
    "model = create_model_2()\n",
    "model.summary()"
   ]
  },
  {
   "cell_type": "code",
   "execution_count": null,
   "metadata": {
    "colab": {
     "base_uri": "https://localhost:8080/",
     "height": 1000
    },
    "executionInfo": {
     "elapsed": 146989,
     "status": "error",
     "timestamp": 1601533987851,
     "user": {
      "displayName": "Maxime Tchibozo",
      "photoUrl": "",
      "userId": "01215953581360341724"
     },
     "user_tz": 240
    },
    "id": "ssc4mNEktRxx",
    "outputId": "5dd68908-6521-457d-f4f1-f12f94d429aa"
   },
   "outputs": [
    {
     "name": "stdout",
     "output_type": "stream",
     "text": [
      "0\n",
      "to create\n",
      "Before Fit\n",
      "Epoch 1/50\n"
     ]
    },
    {
     "name": "stderr",
     "output_type": "stream",
     "text": [
      "/usr/local/lib/python3.6/dist-packages/sklearn/utils/deprecation.py:87: FutureWarning: Function safe_indexing is deprecated; safe_indexing is deprecated in version 0.22 and will be removed in version 0.24.\n",
      "  warnings.warn(msg, category=FutureWarning)\n",
      "/usr/local/lib/python3.6/dist-packages/sklearn/utils/deprecation.py:87: FutureWarning: Function safe_indexing is deprecated; safe_indexing is deprecated in version 0.22 and will be removed in version 0.24.\n",
      "  warnings.warn(msg, category=FutureWarning)\n"
     ]
    },
    {
     "name": "stdout",
     "output_type": "stream",
     "text": [
      "188/188 [==============================] - 1s 3ms/step - loss: 0.6891 - accuracy: 0.7300 - val_loss: 0.6072 - val_accuracy: 0.7300\n",
      "Epoch 2/50\n",
      "188/188 [==============================] - 0s 3ms/step - loss: 0.5448 - accuracy: 0.7800 - val_loss: 0.6512 - val_accuracy: 0.7300\n",
      "Epoch 3/50\n",
      "188/188 [==============================] - 0s 3ms/step - loss: 0.5114 - accuracy: 0.7988 - val_loss: 0.5936 - val_accuracy: 0.7367\n",
      "Epoch 4/50\n",
      "188/188 [==============================] - 0s 3ms/step - loss: 0.4798 - accuracy: 0.8072 - val_loss: 0.5965 - val_accuracy: 0.7500\n",
      "Epoch 5/50\n",
      "188/188 [==============================] - 0s 3ms/step - loss: 0.4839 - accuracy: 0.8078 - val_loss: 0.5656 - val_accuracy: 0.7500\n",
      "Epoch 6/50\n",
      "188/188 [==============================] - 0s 2ms/step - loss: 0.4833 - accuracy: 0.8053 - val_loss: 0.5867 - val_accuracy: 0.7483\n",
      "Epoch 7/50\n",
      "188/188 [==============================] - 0s 3ms/step - loss: 0.4596 - accuracy: 0.8127 - val_loss: 0.5981 - val_accuracy: 0.7517\n",
      "Epoch 8/50\n",
      "188/188 [==============================] - 0s 3ms/step - loss: 0.4542 - accuracy: 0.8155 - val_loss: 0.6376 - val_accuracy: 0.7400\n",
      "Epoch 9/50\n",
      "188/188 [==============================] - 0s 3ms/step - loss: 0.4460 - accuracy: 0.8207 - val_loss: 0.6282 - val_accuracy: 0.7533\n",
      "Epoch 10/50\n",
      "188/188 [==============================] - 0s 2ms/step - loss: 0.4434 - accuracy: 0.8200 - val_loss: 0.6113 - val_accuracy: 0.7483\n",
      "Epoch 11/50\n",
      "188/188 [==============================] - 0s 3ms/step - loss: 0.4377 - accuracy: 0.8222 - val_loss: 0.5776 - val_accuracy: 0.7583\n",
      "Epoch 12/50\n",
      "188/188 [==============================] - 0s 2ms/step - loss: 0.4456 - accuracy: 0.8198 - val_loss: 0.6222 - val_accuracy: 0.7400\n",
      "Epoch 13/50\n",
      "188/188 [==============================] - 0s 3ms/step - loss: 0.4407 - accuracy: 0.8275 - val_loss: 0.6592 - val_accuracy: 0.7500\n",
      "Epoch 14/50\n",
      "188/188 [==============================] - 0s 3ms/step - loss: 0.4279 - accuracy: 0.8217 - val_loss: 0.6354 - val_accuracy: 0.7500\n",
      "Epoch 15/50\n",
      "188/188 [==============================] - 0s 3ms/step - loss: 0.4385 - accuracy: 0.8242 - val_loss: 0.7245 - val_accuracy: 0.7100\n",
      "Epoch 16/50\n",
      "188/188 [==============================] - 0s 3ms/step - loss: 0.4233 - accuracy: 0.8333 - val_loss: 0.6402 - val_accuracy: 0.7617\n",
      "Epoch 17/50\n",
      "188/188 [==============================] - 0s 3ms/step - loss: 0.4234 - accuracy: 0.8288 - val_loss: 0.6421 - val_accuracy: 0.7683\n",
      "Epoch 18/50\n",
      "188/188 [==============================] - 0s 3ms/step - loss: 0.4145 - accuracy: 0.8310 - val_loss: 0.7060 - val_accuracy: 0.7450\n",
      "Epoch 19/50\n",
      "188/188 [==============================] - 0s 3ms/step - loss: 0.4138 - accuracy: 0.8360 - val_loss: 0.7603 - val_accuracy: 0.7117\n",
      "Epoch 20/50\n",
      "188/188 [==============================] - 0s 2ms/step - loss: 0.4218 - accuracy: 0.8318 - val_loss: 0.6704 - val_accuracy: 0.7350\n",
      "Epoch 21/50\n",
      "188/188 [==============================] - 0s 3ms/step - loss: 0.4179 - accuracy: 0.8300 - val_loss: 0.7602 - val_accuracy: 0.7350\n",
      "Epoch 22/50\n",
      "188/188 [==============================] - 0s 3ms/step - loss: 0.4295 - accuracy: 0.8250 - val_loss: 0.7299 - val_accuracy: 0.7333\n",
      "Epoch 23/50\n",
      "188/188 [==============================] - 0s 3ms/step - loss: 0.4081 - accuracy: 0.8388 - val_loss: 0.7250 - val_accuracy: 0.7367\n",
      "Epoch 24/50\n",
      "188/188 [==============================] - 1s 3ms/step - loss: 0.4016 - accuracy: 0.8390 - val_loss: 0.6673 - val_accuracy: 0.7433\n",
      "Epoch 25/50\n",
      "188/188 [==============================] - 0s 3ms/step - loss: 0.4085 - accuracy: 0.8350 - val_loss: 0.7531 - val_accuracy: 0.7083\n",
      "Epoch 26/50\n",
      "188/188 [==============================] - 0s 3ms/step - loss: 0.4156 - accuracy: 0.8347 - val_loss: 0.7194 - val_accuracy: 0.7533\n",
      "Epoch 27/50\n",
      "188/188 [==============================] - 0s 3ms/step - loss: 0.4124 - accuracy: 0.8348 - val_loss: 0.6806 - val_accuracy: 0.7500\n",
      "Epoch 28/50\n",
      "188/188 [==============================] - 0s 3ms/step - loss: 0.4010 - accuracy: 0.8398 - val_loss: 0.7087 - val_accuracy: 0.7283\n",
      "Epoch 29/50\n",
      "188/188 [==============================] - 0s 3ms/step - loss: 0.4055 - accuracy: 0.8347 - val_loss: 0.7506 - val_accuracy: 0.7300\n",
      "Epoch 30/50\n",
      "188/188 [==============================] - 0s 3ms/step - loss: 0.4021 - accuracy: 0.8410 - val_loss: 0.7848 - val_accuracy: 0.7333\n",
      "Epoch 31/50\n",
      "188/188 [==============================] - 0s 3ms/step - loss: 0.3989 - accuracy: 0.8393 - val_loss: 0.7051 - val_accuracy: 0.7400\n",
      "Epoch 32/50\n",
      "188/188 [==============================] - 0s 3ms/step - loss: 0.3928 - accuracy: 0.8448 - val_loss: 0.7111 - val_accuracy: 0.7383\n",
      "Epoch 33/50\n",
      "188/188 [==============================] - 0s 2ms/step - loss: 0.3910 - accuracy: 0.8453 - val_loss: 0.6999 - val_accuracy: 0.7333\n",
      "Epoch 34/50\n",
      "188/188 [==============================] - 0s 3ms/step - loss: 0.3844 - accuracy: 0.8498 - val_loss: 0.7755 - val_accuracy: 0.7300\n",
      "Epoch 35/50\n",
      "188/188 [==============================] - 0s 3ms/step - loss: 0.3934 - accuracy: 0.8455 - val_loss: 0.7214 - val_accuracy: 0.7250\n",
      "Epoch 36/50\n",
      "188/188 [==============================] - 0s 3ms/step - loss: 0.3820 - accuracy: 0.8478 - val_loss: 0.7763 - val_accuracy: 0.7333\n",
      "Epoch 37/50\n",
      "188/188 [==============================] - 0s 3ms/step - loss: 0.3886 - accuracy: 0.8455 - val_loss: 0.7555 - val_accuracy: 0.7400\n",
      "Epoch 38/50\n",
      "188/188 [==============================] - 0s 3ms/step - loss: 0.3955 - accuracy: 0.8403 - val_loss: 0.7380 - val_accuracy: 0.7333\n",
      "Epoch 39/50\n",
      "188/188 [==============================] - 0s 3ms/step - loss: 0.3770 - accuracy: 0.8547 - val_loss: 0.8246 - val_accuracy: 0.7400\n",
      "Epoch 40/50\n",
      "188/188 [==============================] - 0s 3ms/step - loss: 0.3717 - accuracy: 0.8508 - val_loss: 0.7540 - val_accuracy: 0.7467\n",
      "Epoch 41/50\n",
      "188/188 [==============================] - 0s 3ms/step - loss: 0.3734 - accuracy: 0.8532 - val_loss: 0.7798 - val_accuracy: 0.7383\n",
      "Epoch 42/50\n",
      "188/188 [==============================] - 0s 3ms/step - loss: 0.3771 - accuracy: 0.8500 - val_loss: 0.7437 - val_accuracy: 0.7400\n",
      "Epoch 43/50\n",
      "188/188 [==============================] - 0s 3ms/step - loss: 0.3687 - accuracy: 0.8502 - val_loss: 0.7656 - val_accuracy: 0.7183\n",
      "Epoch 44/50\n",
      "188/188 [==============================] - 0s 2ms/step - loss: 0.3688 - accuracy: 0.8520 - val_loss: 0.7686 - val_accuracy: 0.7433\n",
      "Epoch 45/50\n",
      "188/188 [==============================] - 0s 3ms/step - loss: 0.3636 - accuracy: 0.8538 - val_loss: 0.7746 - val_accuracy: 0.7317\n",
      "Epoch 46/50\n",
      "188/188 [==============================] - 1s 3ms/step - loss: 0.3622 - accuracy: 0.8547 - val_loss: 0.7380 - val_accuracy: 0.7483\n",
      "Epoch 47/50\n",
      "188/188 [==============================] - 1s 3ms/step - loss: 0.3733 - accuracy: 0.8525 - val_loss: 0.7377 - val_accuracy: 0.7533\n",
      "Epoch 48/50\n",
      "188/188 [==============================] - 1s 3ms/step - loss: 0.3731 - accuracy: 0.8542 - val_loss: 0.8014 - val_accuracy: 0.7217\n",
      "Epoch 49/50\n",
      "188/188 [==============================] - 1s 3ms/step - loss: 0.3496 - accuracy: 0.8593 - val_loss: 0.7788 - val_accuracy: 0.7450\n",
      "Epoch 50/50\n",
      "188/188 [==============================] - 1s 3ms/step - loss: 0.3483 - accuracy: 0.8655 - val_loss: 0.8024 - val_accuracy: 0.7400\n",
      "Test Accuracy for learning rate 0.0045 CV index 0 is : 0.740\n",
      "1\n",
      "to create\n",
      "Before Fit\n",
      "Epoch 1/50\n"
     ]
    },
    {
     "name": "stderr",
     "output_type": "stream",
     "text": [
      "/usr/local/lib/python3.6/dist-packages/sklearn/utils/deprecation.py:87: FutureWarning: Function safe_indexing is deprecated; safe_indexing is deprecated in version 0.22 and will be removed in version 0.24.\n",
      "  warnings.warn(msg, category=FutureWarning)\n",
      "/usr/local/lib/python3.6/dist-packages/sklearn/utils/deprecation.py:87: FutureWarning: Function safe_indexing is deprecated; safe_indexing is deprecated in version 0.22 and will be removed in version 0.24.\n",
      "  warnings.warn(msg, category=FutureWarning)\n"
     ]
    },
    {
     "name": "stdout",
     "output_type": "stream",
     "text": [
      "188/188 [==============================] - 1s 4ms/step - loss: 0.7501 - accuracy: 0.7262 - val_loss: 0.5995 - val_accuracy: 0.7417\n",
      "Epoch 2/50\n",
      "188/188 [==============================] - 1s 3ms/step - loss: 0.5304 - accuracy: 0.7845 - val_loss: 0.7134 - val_accuracy: 0.7333\n",
      "Epoch 3/50\n",
      "188/188 [==============================] - 1s 3ms/step - loss: 0.5239 - accuracy: 0.7950 - val_loss: 0.5246 - val_accuracy: 0.7667\n",
      "Epoch 4/50\n",
      "188/188 [==============================] - 1s 3ms/step - loss: 0.4962 - accuracy: 0.8032 - val_loss: 0.6787 - val_accuracy: 0.7250\n",
      "Epoch 5/50\n",
      "188/188 [==============================] - 1s 3ms/step - loss: 0.4794 - accuracy: 0.8075 - val_loss: 0.6232 - val_accuracy: 0.7233\n",
      "Epoch 6/50\n",
      "188/188 [==============================] - 1s 3ms/step - loss: 0.4485 - accuracy: 0.8203 - val_loss: 0.5876 - val_accuracy: 0.7500\n",
      "Epoch 7/50\n",
      "188/188 [==============================] - 1s 3ms/step - loss: 0.4771 - accuracy: 0.8112 - val_loss: 0.5957 - val_accuracy: 0.7433\n",
      "Epoch 8/50\n",
      "188/188 [==============================] - 1s 3ms/step - loss: 0.4547 - accuracy: 0.8160 - val_loss: 0.6382 - val_accuracy: 0.7367\n",
      "Epoch 9/50\n",
      "188/188 [==============================] - 1s 3ms/step - loss: 0.4515 - accuracy: 0.8195 - val_loss: 0.6360 - val_accuracy: 0.7483\n",
      "Epoch 10/50\n",
      "188/188 [==============================] - 1s 3ms/step - loss: 0.4514 - accuracy: 0.8233 - val_loss: 0.6799 - val_accuracy: 0.7383\n",
      "Epoch 11/50\n",
      "188/188 [==============================] - 1s 3ms/step - loss: 0.4298 - accuracy: 0.8290 - val_loss: 0.6614 - val_accuracy: 0.7500\n",
      "Epoch 12/50\n",
      "188/188 [==============================] - 1s 3ms/step - loss: 0.4417 - accuracy: 0.8243 - val_loss: 0.6715 - val_accuracy: 0.7483\n",
      "Epoch 13/50\n",
      "188/188 [==============================] - 1s 3ms/step - loss: 0.4329 - accuracy: 0.8280 - val_loss: 0.7448 - val_accuracy: 0.7117\n",
      "Epoch 14/50\n",
      "188/188 [==============================] - 1s 3ms/step - loss: 0.4358 - accuracy: 0.8233 - val_loss: 0.6623 - val_accuracy: 0.7317\n",
      "Epoch 15/50\n",
      "188/188 [==============================] - 0s 3ms/step - loss: 0.4315 - accuracy: 0.8268 - val_loss: 0.6846 - val_accuracy: 0.7217\n",
      "Epoch 16/50\n",
      "188/188 [==============================] - 0s 3ms/step - loss: 0.4211 - accuracy: 0.8270 - val_loss: 0.6565 - val_accuracy: 0.7367\n",
      "Epoch 17/50\n",
      "188/188 [==============================] - 0s 3ms/step - loss: 0.4213 - accuracy: 0.8298 - val_loss: 0.5886 - val_accuracy: 0.7683\n",
      "Epoch 18/50\n",
      "188/188 [==============================] - 0s 3ms/step - loss: 0.4263 - accuracy: 0.8262 - val_loss: 0.5610 - val_accuracy: 0.7850\n",
      "Epoch 19/50\n",
      "188/188 [==============================] - 0s 3ms/step - loss: 0.4351 - accuracy: 0.8248 - val_loss: 0.7860 - val_accuracy: 0.7233\n",
      "Epoch 20/50\n",
      "188/188 [==============================] - 0s 3ms/step - loss: 0.4267 - accuracy: 0.8265 - val_loss: 0.5984 - val_accuracy: 0.7567\n",
      "Epoch 21/50\n",
      "188/188 [==============================] - 0s 3ms/step - loss: 0.4190 - accuracy: 0.8298 - val_loss: 0.6232 - val_accuracy: 0.7667\n",
      "Epoch 22/50\n",
      "188/188 [==============================] - 1s 3ms/step - loss: 0.4290 - accuracy: 0.8253 - val_loss: 0.5785 - val_accuracy: 0.7850\n",
      "Epoch 23/50\n",
      "188/188 [==============================] - 0s 3ms/step - loss: 0.4199 - accuracy: 0.8307 - val_loss: 0.6565 - val_accuracy: 0.7633\n",
      "Epoch 24/50\n",
      "188/188 [==============================] - 0s 3ms/step - loss: 0.4154 - accuracy: 0.8300 - val_loss: 0.7068 - val_accuracy: 0.7383\n",
      "Epoch 25/50\n",
      "188/188 [==============================] - 0s 3ms/step - loss: 0.4101 - accuracy: 0.8372 - val_loss: 0.5839 - val_accuracy: 0.7483\n",
      "Epoch 26/50\n",
      "188/188 [==============================] - 0s 3ms/step - loss: 0.4046 - accuracy: 0.8373 - val_loss: 0.6924 - val_accuracy: 0.7550\n",
      "Epoch 27/50\n",
      "188/188 [==============================] - 0s 2ms/step - loss: 0.4255 - accuracy: 0.8278 - val_loss: 0.5909 - val_accuracy: 0.7600\n",
      "Epoch 28/50\n",
      "188/188 [==============================] - 0s 2ms/step - loss: 0.4161 - accuracy: 0.8302 - val_loss: 0.5716 - val_accuracy: 0.7633\n",
      "Epoch 29/50\n",
      "188/188 [==============================] - 0s 3ms/step - loss: 0.4196 - accuracy: 0.8302 - val_loss: 0.6719 - val_accuracy: 0.7567\n",
      "Epoch 30/50\n",
      "188/188 [==============================] - 0s 3ms/step - loss: 0.4018 - accuracy: 0.8338 - val_loss: 0.6749 - val_accuracy: 0.7417\n",
      "Epoch 31/50\n",
      "188/188 [==============================] - 0s 3ms/step - loss: 0.4024 - accuracy: 0.8362 - val_loss: 0.8106 - val_accuracy: 0.7250\n",
      "Epoch 32/50\n",
      "188/188 [==============================] - 0s 3ms/step - loss: 0.3998 - accuracy: 0.8378 - val_loss: 0.7763 - val_accuracy: 0.7167\n",
      "Epoch 33/50\n",
      "188/188 [==============================] - 0s 3ms/step - loss: 0.3988 - accuracy: 0.8422 - val_loss: 0.7593 - val_accuracy: 0.7183\n",
      "Epoch 34/50\n",
      "188/188 [==============================] - 1s 3ms/step - loss: 0.3962 - accuracy: 0.8402 - val_loss: 0.6731 - val_accuracy: 0.7617\n",
      "Epoch 35/50\n",
      "188/188 [==============================] - 0s 3ms/step - loss: 0.4037 - accuracy: 0.8377 - val_loss: 0.6739 - val_accuracy: 0.7300\n",
      "Epoch 36/50\n",
      "188/188 [==============================] - 0s 3ms/step - loss: 0.3986 - accuracy: 0.8377 - val_loss: 0.7039 - val_accuracy: 0.7600\n",
      "Epoch 37/50\n",
      "188/188 [==============================] - 0s 3ms/step - loss: 0.4067 - accuracy: 0.8432 - val_loss: 0.7048 - val_accuracy: 0.7450\n",
      "Epoch 38/50\n",
      "188/188 [==============================] - 0s 3ms/step - loss: 0.3813 - accuracy: 0.8443 - val_loss: 0.8464 - val_accuracy: 0.7167\n",
      "Epoch 39/50\n",
      "188/188 [==============================] - 0s 3ms/step - loss: 0.3931 - accuracy: 0.8417 - val_loss: 0.6579 - val_accuracy: 0.7517\n",
      "Epoch 40/50\n",
      "188/188 [==============================] - 0s 3ms/step - loss: 0.3832 - accuracy: 0.8473 - val_loss: 0.6376 - val_accuracy: 0.7783\n",
      "Epoch 41/50\n",
      "188/188 [==============================] - 0s 3ms/step - loss: 0.4055 - accuracy: 0.8352 - val_loss: 0.7828 - val_accuracy: 0.7450\n",
      "Epoch 42/50\n",
      "188/188 [==============================] - 0s 3ms/step - loss: 0.3784 - accuracy: 0.8485 - val_loss: 0.7340 - val_accuracy: 0.7617\n",
      "Epoch 43/50\n",
      "188/188 [==============================] - 0s 3ms/step - loss: 0.3927 - accuracy: 0.8423 - val_loss: 0.7162 - val_accuracy: 0.7450\n",
      "Epoch 44/50\n",
      "188/188 [==============================] - 0s 3ms/step - loss: 0.3858 - accuracy: 0.8445 - val_loss: 0.7557 - val_accuracy: 0.7400\n",
      "Epoch 45/50\n",
      "188/188 [==============================] - 0s 3ms/step - loss: 0.3794 - accuracy: 0.8500 - val_loss: 0.8655 - val_accuracy: 0.7167\n",
      "Epoch 46/50\n",
      "188/188 [==============================] - 0s 3ms/step - loss: 0.3959 - accuracy: 0.8408 - val_loss: 0.7523 - val_accuracy: 0.7267\n",
      "Epoch 47/50\n",
      "188/188 [==============================] - 0s 3ms/step - loss: 0.3772 - accuracy: 0.8473 - val_loss: 0.7603 - val_accuracy: 0.7467\n",
      "Epoch 48/50\n",
      "188/188 [==============================] - 0s 3ms/step - loss: 0.3786 - accuracy: 0.8462 - val_loss: 0.7711 - val_accuracy: 0.7550\n",
      "Epoch 49/50\n",
      "188/188 [==============================] - 0s 2ms/step - loss: 0.3858 - accuracy: 0.8458 - val_loss: 0.7211 - val_accuracy: 0.7633\n",
      "Epoch 50/50\n",
      "188/188 [==============================] - 0s 3ms/step - loss: 0.3872 - accuracy: 0.8457 - val_loss: 0.7245 - val_accuracy: 0.7250\n",
      "Test Accuracy for learning rate 0.0045 CV index 1 is : 0.725\n",
      "2\n",
      "to create\n",
      "Before Fit\n",
      "Epoch 1/50\n"
     ]
    },
    {
     "name": "stderr",
     "output_type": "stream",
     "text": [
      "/usr/local/lib/python3.6/dist-packages/sklearn/utils/deprecation.py:87: FutureWarning: Function safe_indexing is deprecated; safe_indexing is deprecated in version 0.22 and will be removed in version 0.24.\n",
      "  warnings.warn(msg, category=FutureWarning)\n",
      "/usr/local/lib/python3.6/dist-packages/sklearn/utils/deprecation.py:87: FutureWarning: Function safe_indexing is deprecated; safe_indexing is deprecated in version 0.22 and will be removed in version 0.24.\n",
      "  warnings.warn(msg, category=FutureWarning)\n"
     ]
    },
    {
     "name": "stdout",
     "output_type": "stream",
     "text": [
      "188/188 [==============================] - 1s 3ms/step - loss: 0.6733 - accuracy: 0.7347 - val_loss: 0.5952 - val_accuracy: 0.7150\n",
      "Epoch 2/50\n",
      "188/188 [==============================] - 0s 3ms/step - loss: 0.5254 - accuracy: 0.7840 - val_loss: 0.6397 - val_accuracy: 0.7183\n",
      "Epoch 3/50\n",
      "188/188 [==============================] - 0s 3ms/step - loss: 0.5054 - accuracy: 0.8018 - val_loss: 0.6205 - val_accuracy: 0.7267\n",
      "Epoch 4/50\n",
      "188/188 [==============================] - 0s 3ms/step - loss: 0.4801 - accuracy: 0.8038 - val_loss: 0.6373 - val_accuracy: 0.7317\n",
      "Epoch 5/50\n",
      "188/188 [==============================] - 0s 3ms/step - loss: 0.4683 - accuracy: 0.8133 - val_loss: 0.6243 - val_accuracy: 0.7483\n",
      "Epoch 6/50\n",
      "188/188 [==============================] - 0s 3ms/step - loss: 0.4661 - accuracy: 0.8135 - val_loss: 0.5789 - val_accuracy: 0.7400\n",
      "Epoch 7/50\n",
      "188/188 [==============================] - 0s 3ms/step - loss: 0.4619 - accuracy: 0.8152 - val_loss: 0.6779 - val_accuracy: 0.6983\n",
      "Epoch 8/50\n",
      "188/188 [==============================] - 1s 3ms/step - loss: 0.4494 - accuracy: 0.8195 - val_loss: 0.6403 - val_accuracy: 0.7450\n",
      "Epoch 9/50\n",
      "188/188 [==============================] - 0s 3ms/step - loss: 0.4342 - accuracy: 0.8297 - val_loss: 0.6455 - val_accuracy: 0.7250\n",
      "Epoch 10/50\n",
      "188/188 [==============================] - 0s 3ms/step - loss: 0.4466 - accuracy: 0.8215 - val_loss: 0.6028 - val_accuracy: 0.7483\n",
      "Epoch 11/50\n",
      "188/188 [==============================] - 0s 2ms/step - loss: 0.4233 - accuracy: 0.8300 - val_loss: 0.6239 - val_accuracy: 0.7450\n",
      "Epoch 12/50\n",
      "188/188 [==============================] - 0s 3ms/step - loss: 0.4412 - accuracy: 0.8267 - val_loss: 0.6079 - val_accuracy: 0.7283\n",
      "Epoch 13/50\n",
      "188/188 [==============================] - 0s 3ms/step - loss: 0.4277 - accuracy: 0.8305 - val_loss: 0.6134 - val_accuracy: 0.7433\n",
      "Epoch 14/50\n",
      "188/188 [==============================] - 0s 3ms/step - loss: 0.4267 - accuracy: 0.8287 - val_loss: 0.6159 - val_accuracy: 0.7300\n",
      "Epoch 15/50\n",
      "188/188 [==============================] - 0s 3ms/step - loss: 0.4217 - accuracy: 0.8302 - val_loss: 0.6398 - val_accuracy: 0.7667\n",
      "Epoch 16/50\n",
      "188/188 [==============================] - 0s 3ms/step - loss: 0.4166 - accuracy: 0.8360 - val_loss: 0.6505 - val_accuracy: 0.7317\n",
      "Epoch 17/50\n",
      "188/188 [==============================] - 0s 3ms/step - loss: 0.4143 - accuracy: 0.8352 - val_loss: 0.6045 - val_accuracy: 0.7467\n",
      "Epoch 18/50\n",
      "188/188 [==============================] - 0s 3ms/step - loss: 0.4125 - accuracy: 0.8337 - val_loss: 0.6086 - val_accuracy: 0.7383\n",
      "Epoch 19/50\n",
      "188/188 [==============================] - 0s 3ms/step - loss: 0.4075 - accuracy: 0.8350 - val_loss: 0.6129 - val_accuracy: 0.7550\n",
      "Epoch 20/50\n",
      "188/188 [==============================] - 0s 3ms/step - loss: 0.4105 - accuracy: 0.8383 - val_loss: 0.6272 - val_accuracy: 0.7517\n",
      "Epoch 21/50\n",
      "188/188 [==============================] - 1s 3ms/step - loss: 0.3917 - accuracy: 0.8495 - val_loss: 0.6467 - val_accuracy: 0.7417\n",
      "Epoch 22/50\n",
      "188/188 [==============================] - 0s 3ms/step - loss: 0.4099 - accuracy: 0.8353 - val_loss: 0.6229 - val_accuracy: 0.7467\n",
      "Epoch 23/50\n",
      "188/188 [==============================] - 1s 3ms/step - loss: 0.3982 - accuracy: 0.8377 - val_loss: 0.6911 - val_accuracy: 0.7283\n",
      "Epoch 24/50\n",
      "188/188 [==============================] - 0s 3ms/step - loss: 0.3988 - accuracy: 0.8373 - val_loss: 0.6334 - val_accuracy: 0.7400\n",
      "Epoch 25/50\n",
      "188/188 [==============================] - 0s 3ms/step - loss: 0.3944 - accuracy: 0.8430 - val_loss: 0.6027 - val_accuracy: 0.7650\n",
      "Epoch 26/50\n",
      "188/188 [==============================] - 0s 3ms/step - loss: 0.3927 - accuracy: 0.8493 - val_loss: 0.6291 - val_accuracy: 0.7617\n",
      "Epoch 27/50\n",
      "188/188 [==============================] - 0s 3ms/step - loss: 0.3948 - accuracy: 0.8460 - val_loss: 0.7140 - val_accuracy: 0.7350\n",
      "Epoch 28/50\n",
      "188/188 [==============================] - 0s 2ms/step - loss: 0.3695 - accuracy: 0.8578 - val_loss: 0.6342 - val_accuracy: 0.7633\n",
      "Epoch 29/50\n",
      "188/188 [==============================] - 0s 3ms/step - loss: 0.3826 - accuracy: 0.8460 - val_loss: 0.6636 - val_accuracy: 0.7467\n",
      "Epoch 30/50\n",
      "188/188 [==============================] - 0s 3ms/step - loss: 0.3775 - accuracy: 0.8550 - val_loss: 0.6949 - val_accuracy: 0.7183\n",
      "Epoch 31/50\n",
      "188/188 [==============================] - 0s 3ms/step - loss: 0.3776 - accuracy: 0.8528 - val_loss: 0.6169 - val_accuracy: 0.7517\n",
      "Epoch 32/50\n",
      "188/188 [==============================] - 0s 3ms/step - loss: 0.3714 - accuracy: 0.8557 - val_loss: 0.6913 - val_accuracy: 0.7450\n",
      "Epoch 33/50\n",
      "188/188 [==============================] - 0s 3ms/step - loss: 0.3827 - accuracy: 0.8483 - val_loss: 0.5972 - val_accuracy: 0.7733\n",
      "Epoch 34/50\n",
      "188/188 [==============================] - 0s 3ms/step - loss: 0.3494 - accuracy: 0.8640 - val_loss: 0.6685 - val_accuracy: 0.7450\n",
      "Epoch 35/50\n",
      "188/188 [==============================] - 0s 3ms/step - loss: 0.3531 - accuracy: 0.8602 - val_loss: 0.5794 - val_accuracy: 0.7750\n",
      "Epoch 36/50\n",
      "188/188 [==============================] - 0s 3ms/step - loss: 0.3694 - accuracy: 0.8530 - val_loss: 0.6593 - val_accuracy: 0.7483\n",
      "Epoch 37/50\n",
      "188/188 [==============================] - 0s 3ms/step - loss: 0.3490 - accuracy: 0.8593 - val_loss: 0.6521 - val_accuracy: 0.7383\n",
      "Epoch 38/50\n",
      "188/188 [==============================] - 0s 3ms/step - loss: 0.3512 - accuracy: 0.8665 - val_loss: 0.7177 - val_accuracy: 0.7683\n",
      "Epoch 39/50\n",
      "188/188 [==============================] - 0s 3ms/step - loss: 0.3428 - accuracy: 0.8628 - val_loss: 0.6944 - val_accuracy: 0.7467\n",
      "Epoch 40/50\n",
      "188/188 [==============================] - 0s 3ms/step - loss: 0.3597 - accuracy: 0.8537 - val_loss: 0.7109 - val_accuracy: 0.7383\n",
      "Epoch 41/50\n",
      "188/188 [==============================] - 0s 3ms/step - loss: 0.3408 - accuracy: 0.8657 - val_loss: 0.6520 - val_accuracy: 0.7650\n",
      "Epoch 42/50\n",
      "188/188 [==============================] - 1s 3ms/step - loss: 0.3412 - accuracy: 0.8617 - val_loss: 0.7035 - val_accuracy: 0.7417\n",
      "Epoch 43/50\n",
      "188/188 [==============================] - 0s 2ms/step - loss: 0.3268 - accuracy: 0.8687 - val_loss: 0.6781 - val_accuracy: 0.7583\n",
      "Epoch 44/50\n",
      "188/188 [==============================] - 0s 3ms/step - loss: 0.3421 - accuracy: 0.8605 - val_loss: 0.7036 - val_accuracy: 0.7400\n",
      "Epoch 45/50\n",
      "188/188 [==============================] - 0s 3ms/step - loss: 0.3388 - accuracy: 0.8723 - val_loss: 0.6901 - val_accuracy: 0.7767\n",
      "Epoch 46/50\n",
      "188/188 [==============================] - 0s 3ms/step - loss: 0.3347 - accuracy: 0.8695 - val_loss: 0.6775 - val_accuracy: 0.7617\n",
      "Epoch 47/50\n",
      "188/188 [==============================] - 0s 3ms/step - loss: 0.3276 - accuracy: 0.8727 - val_loss: 0.6918 - val_accuracy: 0.7667\n",
      "Epoch 48/50\n",
      "188/188 [==============================] - 0s 3ms/step - loss: 0.3287 - accuracy: 0.8707 - val_loss: 0.6804 - val_accuracy: 0.7683\n",
      "Epoch 49/50\n",
      "188/188 [==============================] - 0s 3ms/step - loss: 0.3062 - accuracy: 0.8778 - val_loss: 0.7285 - val_accuracy: 0.7400\n",
      "Epoch 50/50\n",
      "188/188 [==============================] - 0s 3ms/step - loss: 0.3370 - accuracy: 0.8678 - val_loss: 0.7853 - val_accuracy: 0.7317\n",
      "Test Accuracy for learning rate 0.0045 CV index 2 is : 0.732\n",
      "3\n",
      "to create\n",
      "Before Fit\n",
      "Epoch 1/50\n"
     ]
    },
    {
     "name": "stderr",
     "output_type": "stream",
     "text": [
      "/usr/local/lib/python3.6/dist-packages/sklearn/utils/deprecation.py:87: FutureWarning: Function safe_indexing is deprecated; safe_indexing is deprecated in version 0.22 and will be removed in version 0.24.\n",
      "  warnings.warn(msg, category=FutureWarning)\n",
      "/usr/local/lib/python3.6/dist-packages/sklearn/utils/deprecation.py:87: FutureWarning: Function safe_indexing is deprecated; safe_indexing is deprecated in version 0.22 and will be removed in version 0.24.\n",
      "  warnings.warn(msg, category=FutureWarning)\n"
     ]
    },
    {
     "name": "stdout",
     "output_type": "stream",
     "text": [
      "188/188 [==============================] - 1s 3ms/step - loss: 0.6920 - accuracy: 0.7278 - val_loss: 0.7805 - val_accuracy: 0.7117\n",
      "Epoch 2/50\n",
      "188/188 [==============================] - 1s 3ms/step - loss: 0.5165 - accuracy: 0.7932 - val_loss: 0.7198 - val_accuracy: 0.7333\n",
      "Epoch 3/50\n",
      "188/188 [==============================] - 0s 3ms/step - loss: 0.4984 - accuracy: 0.7993 - val_loss: 0.7238 - val_accuracy: 0.7550\n",
      "Epoch 4/50\n",
      "188/188 [==============================] - 0s 2ms/step - loss: 0.4909 - accuracy: 0.8015 - val_loss: 0.7916 - val_accuracy: 0.7067\n",
      "Epoch 5/50\n",
      "188/188 [==============================] - 0s 3ms/step - loss: 0.4856 - accuracy: 0.8028 - val_loss: 0.7128 - val_accuracy: 0.7550\n",
      "Epoch 6/50\n",
      "188/188 [==============================] - 1s 3ms/step - loss: 0.4684 - accuracy: 0.8130 - val_loss: 0.7926 - val_accuracy: 0.7400\n",
      "Epoch 7/50\n",
      "188/188 [==============================] - 0s 2ms/step - loss: 0.4462 - accuracy: 0.8223 - val_loss: 0.7216 - val_accuracy: 0.7583\n",
      "Epoch 8/50\n",
      "188/188 [==============================] - 0s 3ms/step - loss: 0.4447 - accuracy: 0.8200 - val_loss: 0.7250 - val_accuracy: 0.7583\n",
      "Epoch 9/50\n",
      "188/188 [==============================] - 0s 3ms/step - loss: 0.4416 - accuracy: 0.8215 - val_loss: 0.7335 - val_accuracy: 0.7733\n",
      "Epoch 10/50\n",
      "188/188 [==============================] - 0s 3ms/step - loss: 0.4328 - accuracy: 0.8228 - val_loss: 0.7585 - val_accuracy: 0.7400\n",
      "Epoch 11/50\n",
      "188/188 [==============================] - 0s 3ms/step - loss: 0.4423 - accuracy: 0.8220 - val_loss: 0.7470 - val_accuracy: 0.7550\n",
      "Epoch 12/50\n",
      "188/188 [==============================] - 0s 3ms/step - loss: 0.4405 - accuracy: 0.8252 - val_loss: 0.7497 - val_accuracy: 0.7417\n",
      "Epoch 13/50\n",
      "188/188 [==============================] - 0s 3ms/step - loss: 0.4317 - accuracy: 0.8265 - val_loss: 0.7319 - val_accuracy: 0.7517\n",
      "Epoch 14/50\n",
      "188/188 [==============================] - 1s 3ms/step - loss: 0.4358 - accuracy: 0.8273 - val_loss: 0.7890 - val_accuracy: 0.7183\n",
      "Epoch 15/50\n",
      "188/188 [==============================] - 1s 3ms/step - loss: 0.4391 - accuracy: 0.8230 - val_loss: 0.7286 - val_accuracy: 0.7633\n",
      "Epoch 16/50\n",
      "188/188 [==============================] - 0s 3ms/step - loss: 0.4201 - accuracy: 0.8318 - val_loss: 0.7074 - val_accuracy: 0.7700\n",
      "Epoch 17/50\n",
      "188/188 [==============================] - 1s 3ms/step - loss: 0.4150 - accuracy: 0.8310 - val_loss: 0.7666 - val_accuracy: 0.7567\n",
      "Epoch 18/50\n",
      "188/188 [==============================] - 0s 3ms/step - loss: 0.4127 - accuracy: 0.8335 - val_loss: 0.7493 - val_accuracy: 0.7333\n",
      "Epoch 19/50\n",
      "188/188 [==============================] - 0s 3ms/step - loss: 0.4036 - accuracy: 0.8365 - val_loss: 0.7952 - val_accuracy: 0.7483\n",
      "Epoch 20/50\n",
      "188/188 [==============================] - 0s 3ms/step - loss: 0.4128 - accuracy: 0.8360 - val_loss: 0.7398 - val_accuracy: 0.7483\n",
      "Epoch 21/50\n",
      "188/188 [==============================] - 0s 3ms/step - loss: 0.4051 - accuracy: 0.8392 - val_loss: 0.7091 - val_accuracy: 0.7783\n",
      "Epoch 22/50\n",
      "188/188 [==============================] - 0s 3ms/step - loss: 0.3961 - accuracy: 0.8412 - val_loss: 0.9375 - val_accuracy: 0.6867\n",
      "Epoch 23/50\n",
      "188/188 [==============================] - 0s 3ms/step - loss: 0.3956 - accuracy: 0.8387 - val_loss: 0.8149 - val_accuracy: 0.7517\n",
      "Epoch 24/50\n",
      "188/188 [==============================] - 1s 3ms/step - loss: 0.4037 - accuracy: 0.8385 - val_loss: 0.7509 - val_accuracy: 0.7750\n",
      "Epoch 25/50\n",
      "188/188 [==============================] - 0s 2ms/step - loss: 0.3924 - accuracy: 0.8440 - val_loss: 0.7803 - val_accuracy: 0.7550\n",
      "Epoch 26/50\n",
      "188/188 [==============================] - 0s 3ms/step - loss: 0.3839 - accuracy: 0.8443 - val_loss: 0.7487 - val_accuracy: 0.7917\n",
      "Epoch 27/50\n",
      "188/188 [==============================] - 0s 3ms/step - loss: 0.3744 - accuracy: 0.8448 - val_loss: 0.7767 - val_accuracy: 0.7650\n",
      "Epoch 28/50\n",
      "188/188 [==============================] - 0s 3ms/step - loss: 0.3768 - accuracy: 0.8485 - val_loss: 0.7826 - val_accuracy: 0.7467\n",
      "Epoch 29/50\n",
      "188/188 [==============================] - 0s 3ms/step - loss: 0.3696 - accuracy: 0.8497 - val_loss: 0.8486 - val_accuracy: 0.7617\n",
      "Epoch 30/50\n",
      "188/188 [==============================] - 0s 3ms/step - loss: 0.3605 - accuracy: 0.8590 - val_loss: 0.8694 - val_accuracy: 0.7267\n",
      "Epoch 31/50\n",
      "188/188 [==============================] - 1s 3ms/step - loss: 0.3720 - accuracy: 0.8530 - val_loss: 0.8293 - val_accuracy: 0.7500\n",
      "Epoch 32/50\n",
      "188/188 [==============================] - 0s 3ms/step - loss: 0.3774 - accuracy: 0.8472 - val_loss: 0.8300 - val_accuracy: 0.7533\n",
      "Epoch 33/50\n",
      "188/188 [==============================] - 0s 2ms/step - loss: 0.3571 - accuracy: 0.8583 - val_loss: 0.8240 - val_accuracy: 0.7317\n",
      "Epoch 34/50\n",
      "188/188 [==============================] - 1s 3ms/step - loss: 0.3720 - accuracy: 0.8488 - val_loss: 0.8612 - val_accuracy: 0.7567\n",
      "Epoch 35/50\n",
      "188/188 [==============================] - 0s 3ms/step - loss: 0.3676 - accuracy: 0.8522 - val_loss: 0.8200 - val_accuracy: 0.7250\n",
      "Epoch 36/50\n",
      "188/188 [==============================] - 0s 3ms/step - loss: 0.3490 - accuracy: 0.8627 - val_loss: 0.8495 - val_accuracy: 0.7200\n",
      "Epoch 37/50\n",
      "188/188 [==============================] - 0s 2ms/step - loss: 0.3464 - accuracy: 0.8607 - val_loss: 0.8933 - val_accuracy: 0.7217\n",
      "Epoch 38/50\n",
      "188/188 [==============================] - 0s 3ms/step - loss: 0.3503 - accuracy: 0.8630 - val_loss: 0.9817 - val_accuracy: 0.6900\n",
      "Epoch 39/50\n",
      "188/188 [==============================] - 0s 2ms/step - loss: 0.3370 - accuracy: 0.8652 - val_loss: 0.8207 - val_accuracy: 0.7667\n",
      "Epoch 40/50\n",
      "188/188 [==============================] - 0s 3ms/step - loss: 0.3391 - accuracy: 0.8630 - val_loss: 0.9030 - val_accuracy: 0.7150\n",
      "Epoch 41/50\n",
      "188/188 [==============================] - 0s 3ms/step - loss: 0.3400 - accuracy: 0.8648 - val_loss: 0.8694 - val_accuracy: 0.7500\n",
      "Epoch 42/50\n",
      "188/188 [==============================] - 0s 3ms/step - loss: 0.3420 - accuracy: 0.8655 - val_loss: 0.9990 - val_accuracy: 0.6917\n",
      "Epoch 43/50\n",
      "188/188 [==============================] - 0s 3ms/step - loss: 0.3468 - accuracy: 0.8580 - val_loss: 0.8384 - val_accuracy: 0.7683\n",
      "Epoch 44/50\n",
      "188/188 [==============================] - 0s 3ms/step - loss: 0.3524 - accuracy: 0.8613 - val_loss: 0.8887 - val_accuracy: 0.7500\n",
      "Epoch 45/50\n",
      "188/188 [==============================] - 0s 3ms/step - loss: 0.3373 - accuracy: 0.8645 - val_loss: 0.8493 - val_accuracy: 0.7667\n",
      "Epoch 46/50\n",
      "188/188 [==============================] - 0s 3ms/step - loss: 0.3269 - accuracy: 0.8720 - val_loss: 0.8664 - val_accuracy: 0.7600\n",
      "Epoch 47/50\n",
      "188/188 [==============================] - 0s 3ms/step - loss: 0.3232 - accuracy: 0.8695 - val_loss: 0.8991 - val_accuracy: 0.7467\n",
      "Epoch 48/50\n",
      "188/188 [==============================] - 1s 3ms/step - loss: 0.3143 - accuracy: 0.8755 - val_loss: 0.8235 - val_accuracy: 0.7583\n",
      "Epoch 49/50\n",
      "188/188 [==============================] - 1s 3ms/step - loss: 0.3396 - accuracy: 0.8672 - val_loss: 0.9326 - val_accuracy: 0.7283\n",
      "Epoch 50/50\n",
      "188/188 [==============================] - 0s 3ms/step - loss: 0.3325 - accuracy: 0.8710 - val_loss: 0.8934 - val_accuracy: 0.7533\n",
      "Test Accuracy for learning rate 0.0045 CV index 3 is : 0.753\n",
      "4\n",
      "to create\n",
      "Before Fit\n",
      "Epoch 1/50\n"
     ]
    },
    {
     "name": "stderr",
     "output_type": "stream",
     "text": [
      "/usr/local/lib/python3.6/dist-packages/sklearn/utils/deprecation.py:87: FutureWarning: Function safe_indexing is deprecated; safe_indexing is deprecated in version 0.22 and will be removed in version 0.24.\n",
      "  warnings.warn(msg, category=FutureWarning)\n",
      "/usr/local/lib/python3.6/dist-packages/sklearn/utils/deprecation.py:87: FutureWarning: Function safe_indexing is deprecated; safe_indexing is deprecated in version 0.22 and will be removed in version 0.24.\n",
      "  warnings.warn(msg, category=FutureWarning)\n"
     ]
    },
    {
     "name": "stdout",
     "output_type": "stream",
     "text": [
      "188/188 [==============================] - 1s 3ms/step - loss: 0.6937 - accuracy: 0.7348 - val_loss: 0.6761 - val_accuracy: 0.7033\n",
      "Epoch 2/50\n",
      "188/188 [==============================] - 1s 3ms/step - loss: 0.5249 - accuracy: 0.7897 - val_loss: 0.8554 - val_accuracy: 0.6783\n",
      "Epoch 3/50\n",
      "188/188 [==============================] - 0s 3ms/step - loss: 0.5087 - accuracy: 0.7957 - val_loss: 0.6517 - val_accuracy: 0.7217\n",
      "Epoch 4/50\n",
      "188/188 [==============================] - 0s 3ms/step - loss: 0.4677 - accuracy: 0.8123 - val_loss: 0.6647 - val_accuracy: 0.7200\n",
      "Epoch 5/50\n",
      "188/188 [==============================] - 1s 3ms/step - loss: 0.4699 - accuracy: 0.8147 - val_loss: 0.7067 - val_accuracy: 0.7050\n",
      "Epoch 6/50\n",
      "188/188 [==============================] - 1s 3ms/step - loss: 0.4454 - accuracy: 0.8195 - val_loss: 0.6901 - val_accuracy: 0.7083\n",
      "Epoch 7/50\n",
      "188/188 [==============================] - 1s 3ms/step - loss: 0.4463 - accuracy: 0.8223 - val_loss: 0.8060 - val_accuracy: 0.6617\n",
      "Epoch 8/50\n",
      "188/188 [==============================] - 0s 3ms/step - loss: 0.4436 - accuracy: 0.8223 - val_loss: 0.7580 - val_accuracy: 0.7217\n",
      "Epoch 9/50\n",
      "188/188 [==============================] - 1s 3ms/step - loss: 0.4348 - accuracy: 0.8252 - val_loss: 0.6638 - val_accuracy: 0.7267\n",
      "Epoch 10/50\n",
      "188/188 [==============================] - 1s 3ms/step - loss: 0.4275 - accuracy: 0.8253 - val_loss: 0.6814 - val_accuracy: 0.7267\n",
      "Epoch 11/50\n",
      "188/188 [==============================] - 1s 3ms/step - loss: 0.4289 - accuracy: 0.8282 - val_loss: 0.6926 - val_accuracy: 0.7083\n",
      "Epoch 12/50\n",
      "188/188 [==============================] - 0s 3ms/step - loss: 0.4263 - accuracy: 0.8263 - val_loss: 0.7424 - val_accuracy: 0.7133\n",
      "Epoch 13/50\n",
      "188/188 [==============================] - 0s 3ms/step - loss: 0.4221 - accuracy: 0.8273 - val_loss: 0.7495 - val_accuracy: 0.7017\n",
      "Epoch 14/50\n",
      "188/188 [==============================] - 0s 3ms/step - loss: 0.4240 - accuracy: 0.8287 - val_loss: 0.8538 - val_accuracy: 0.6950\n",
      "Epoch 15/50\n",
      "188/188 [==============================] - 0s 3ms/step - loss: 0.4135 - accuracy: 0.8308 - val_loss: 0.7090 - val_accuracy: 0.7083\n",
      "Epoch 16/50\n",
      "188/188 [==============================] - 0s 2ms/step - loss: 0.4197 - accuracy: 0.8257 - val_loss: 0.7406 - val_accuracy: 0.6900\n",
      "Epoch 17/50\n",
      "188/188 [==============================] - 0s 2ms/step - loss: 0.4125 - accuracy: 0.8332 - val_loss: 0.7194 - val_accuracy: 0.7083\n",
      "Epoch 18/50\n",
      "188/188 [==============================] - 0s 2ms/step - loss: 0.4282 - accuracy: 0.8272 - val_loss: 0.7023 - val_accuracy: 0.7033\n",
      "Epoch 19/50\n",
      "188/188 [==============================] - 0s 2ms/step - loss: 0.4160 - accuracy: 0.8293 - val_loss: 0.7075 - val_accuracy: 0.7133\n",
      "Epoch 20/50\n",
      "188/188 [==============================] - 0s 2ms/step - loss: 0.4071 - accuracy: 0.8360 - val_loss: 0.6765 - val_accuracy: 0.7217\n",
      "Epoch 21/50\n",
      "188/188 [==============================] - 0s 2ms/step - loss: 0.4065 - accuracy: 0.8337 - val_loss: 0.6973 - val_accuracy: 0.7050\n",
      "Epoch 22/50\n",
      "188/188 [==============================] - 0s 2ms/step - loss: 0.3971 - accuracy: 0.8383 - val_loss: 0.8064 - val_accuracy: 0.6850\n",
      "Epoch 23/50\n",
      "188/188 [==============================] - 0s 3ms/step - loss: 0.4090 - accuracy: 0.8355 - val_loss: 0.6934 - val_accuracy: 0.7100\n",
      "Epoch 24/50\n",
      "188/188 [==============================] - 0s 3ms/step - loss: 0.4108 - accuracy: 0.8310 - val_loss: 0.7762 - val_accuracy: 0.6983\n",
      "Epoch 25/50\n",
      "188/188 [==============================] - 0s 2ms/step - loss: 0.4056 - accuracy: 0.8353 - val_loss: 0.7110 - val_accuracy: 0.7200\n",
      "Epoch 26/50\n",
      "188/188 [==============================] - 0s 3ms/step - loss: 0.4000 - accuracy: 0.8360 - val_loss: 0.7161 - val_accuracy: 0.7083\n",
      "Epoch 27/50\n",
      "188/188 [==============================] - 0s 2ms/step - loss: 0.3937 - accuracy: 0.8408 - val_loss: 0.7766 - val_accuracy: 0.6933\n",
      "Epoch 28/50\n",
      "188/188 [==============================] - 0s 3ms/step - loss: 0.4006 - accuracy: 0.8385 - val_loss: 0.6970 - val_accuracy: 0.7017\n",
      "Epoch 29/50\n",
      "188/188 [==============================] - 0s 3ms/step - loss: 0.3923 - accuracy: 0.8395 - val_loss: 0.7570 - val_accuracy: 0.6983\n",
      "Epoch 30/50\n",
      "188/188 [==============================] - 0s 3ms/step - loss: 0.3949 - accuracy: 0.8390 - val_loss: 0.7591 - val_accuracy: 0.6967\n",
      "Epoch 31/50\n",
      "188/188 [==============================] - 0s 3ms/step - loss: 0.3931 - accuracy: 0.8435 - val_loss: 0.7211 - val_accuracy: 0.7133\n",
      "Epoch 32/50\n",
      "188/188 [==============================] - 0s 3ms/step - loss: 0.3981 - accuracy: 0.8388 - val_loss: 0.7338 - val_accuracy: 0.7083\n",
      "Epoch 33/50\n",
      "188/188 [==============================] - 0s 3ms/step - loss: 0.3889 - accuracy: 0.8422 - val_loss: 0.7397 - val_accuracy: 0.7117\n",
      "Epoch 34/50\n",
      "188/188 [==============================] - 0s 3ms/step - loss: 0.3869 - accuracy: 0.8433 - val_loss: 0.7877 - val_accuracy: 0.7183\n",
      "Epoch 35/50\n",
      "188/188 [==============================] - 0s 3ms/step - loss: 0.3809 - accuracy: 0.8433 - val_loss: 0.7167 - val_accuracy: 0.7133\n",
      "Epoch 36/50\n",
      "188/188 [==============================] - 0s 3ms/step - loss: 0.3882 - accuracy: 0.8440 - val_loss: 0.7430 - val_accuracy: 0.6950\n",
      "Epoch 37/50\n",
      "188/188 [==============================] - 0s 3ms/step - loss: 0.3902 - accuracy: 0.8470 - val_loss: 0.7650 - val_accuracy: 0.7000\n",
      "Epoch 38/50\n",
      "188/188 [==============================] - 0s 3ms/step - loss: 0.3843 - accuracy: 0.8497 - val_loss: 0.7715 - val_accuracy: 0.7050\n",
      "Epoch 39/50\n",
      "188/188 [==============================] - 1s 3ms/step - loss: 0.3888 - accuracy: 0.8467 - val_loss: 0.8419 - val_accuracy: 0.7100\n",
      "Epoch 40/50\n",
      "188/188 [==============================] - 1s 3ms/step - loss: 0.3905 - accuracy: 0.8447 - val_loss: 0.7377 - val_accuracy: 0.7083\n",
      "Epoch 41/50\n",
      "188/188 [==============================] - 1s 3ms/step - loss: 0.3818 - accuracy: 0.8465 - val_loss: 0.7940 - val_accuracy: 0.6833\n",
      "Epoch 42/50\n",
      "188/188 [==============================] - 0s 3ms/step - loss: 0.3715 - accuracy: 0.8548 - val_loss: 0.7140 - val_accuracy: 0.6867\n",
      "Epoch 43/50\n",
      "188/188 [==============================] - 0s 3ms/step - loss: 0.3750 - accuracy: 0.8493 - val_loss: 0.7568 - val_accuracy: 0.7050\n",
      "Epoch 44/50\n",
      "188/188 [==============================] - 1s 3ms/step - loss: 0.3814 - accuracy: 0.8458 - val_loss: 0.7295 - val_accuracy: 0.6967\n",
      "Epoch 45/50\n",
      "188/188 [==============================] - 1s 3ms/step - loss: 0.3726 - accuracy: 0.8460 - val_loss: 0.7909 - val_accuracy: 0.7250\n",
      "Epoch 46/50\n",
      "188/188 [==============================] - 1s 3ms/step - loss: 0.3708 - accuracy: 0.8530 - val_loss: 0.7757 - val_accuracy: 0.6833\n",
      "Epoch 47/50\n",
      "188/188 [==============================] - 0s 3ms/step - loss: 0.3739 - accuracy: 0.8502 - val_loss: 0.7822 - val_accuracy: 0.7083\n",
      "Epoch 48/50\n",
      "188/188 [==============================] - 0s 3ms/step - loss: 0.3704 - accuracy: 0.8538 - val_loss: 0.8503 - val_accuracy: 0.7133\n",
      "Epoch 49/50\n",
      "188/188 [==============================] - 0s 3ms/step - loss: 0.3655 - accuracy: 0.8537 - val_loss: 0.8809 - val_accuracy: 0.6900\n",
      "Epoch 50/50\n",
      "188/188 [==============================] - 0s 3ms/step - loss: 0.3644 - accuracy: 0.8578 - val_loss: 0.8096 - val_accuracy: 0.7133\n",
      "Test Accuracy for learning rate 0.0045 CV index 4 is : 0.713\n",
      "5\n",
      "to create\n",
      "Before Fit\n",
      "Epoch 1/50\n"
     ]
    },
    {
     "name": "stderr",
     "output_type": "stream",
     "text": [
      "/usr/local/lib/python3.6/dist-packages/sklearn/utils/deprecation.py:87: FutureWarning: Function safe_indexing is deprecated; safe_indexing is deprecated in version 0.22 and will be removed in version 0.24.\n",
      "  warnings.warn(msg, category=FutureWarning)\n",
      "/usr/local/lib/python3.6/dist-packages/sklearn/utils/deprecation.py:87: FutureWarning: Function safe_indexing is deprecated; safe_indexing is deprecated in version 0.22 and will be removed in version 0.24.\n",
      "  warnings.warn(msg, category=FutureWarning)\n"
     ]
    },
    {
     "name": "stdout",
     "output_type": "stream",
     "text": [
      "188/188 [==============================] - 1s 3ms/step - loss: 0.6580 - accuracy: 0.7387 - val_loss: 0.5521 - val_accuracy: 0.7800\n",
      "Epoch 2/50\n",
      "188/188 [==============================] - 0s 3ms/step - loss: 0.5387 - accuracy: 0.7850 - val_loss: 0.5548 - val_accuracy: 0.7800\n",
      "Epoch 3/50\n",
      "188/188 [==============================] - 0s 3ms/step - loss: 0.5095 - accuracy: 0.7905 - val_loss: 0.5458 - val_accuracy: 0.7417\n",
      "Epoch 4/50\n",
      "188/188 [==============================] - 0s 2ms/step - loss: 0.4928 - accuracy: 0.8037 - val_loss: 0.5751 - val_accuracy: 0.7583\n",
      "Epoch 5/50\n",
      "188/188 [==============================] - 0s 3ms/step - loss: 0.4726 - accuracy: 0.8087 - val_loss: 0.5724 - val_accuracy: 0.7167\n",
      "Epoch 6/50\n",
      "188/188 [==============================] - 0s 3ms/step - loss: 0.4641 - accuracy: 0.8070 - val_loss: 0.5813 - val_accuracy: 0.7550\n",
      "Epoch 7/50\n",
      "188/188 [==============================] - 0s 3ms/step - loss: 0.4649 - accuracy: 0.8098 - val_loss: 0.6166 - val_accuracy: 0.7483\n",
      "Epoch 8/50\n",
      "188/188 [==============================] - 0s 3ms/step - loss: 0.4578 - accuracy: 0.8173 - val_loss: 0.5884 - val_accuracy: 0.7567\n",
      "Epoch 9/50\n",
      "188/188 [==============================] - 0s 3ms/step - loss: 0.4569 - accuracy: 0.8162 - val_loss: 0.8526 - val_accuracy: 0.6983\n",
      "Epoch 10/50\n",
      "188/188 [==============================] - 0s 3ms/step - loss: 0.4562 - accuracy: 0.8157 - val_loss: 0.6107 - val_accuracy: 0.7667\n",
      "Epoch 11/50\n",
      "188/188 [==============================] - 0s 3ms/step - loss: 0.4346 - accuracy: 0.8215 - val_loss: 0.5985 - val_accuracy: 0.7650\n",
      "Epoch 12/50\n",
      "188/188 [==============================] - 0s 3ms/step - loss: 0.4198 - accuracy: 0.8302 - val_loss: 0.6055 - val_accuracy: 0.7700\n",
      "Epoch 13/50\n",
      "188/188 [==============================] - 0s 2ms/step - loss: 0.4253 - accuracy: 0.8298 - val_loss: 0.6700 - val_accuracy: 0.7700\n",
      "Epoch 14/50\n",
      "188/188 [==============================] - 1s 3ms/step - loss: 0.4170 - accuracy: 0.8310 - val_loss: 0.6622 - val_accuracy: 0.7517\n",
      "Epoch 15/50\n",
      "188/188 [==============================] - 0s 3ms/step - loss: 0.4137 - accuracy: 0.8295 - val_loss: 0.5346 - val_accuracy: 0.7733\n",
      "Epoch 16/50\n",
      "188/188 [==============================] - 0s 3ms/step - loss: 0.4167 - accuracy: 0.8327 - val_loss: 0.6093 - val_accuracy: 0.7517\n",
      "Epoch 17/50\n",
      "188/188 [==============================] - 0s 3ms/step - loss: 0.3976 - accuracy: 0.8377 - val_loss: 0.6497 - val_accuracy: 0.7483\n",
      "Epoch 18/50\n",
      "188/188 [==============================] - 0s 3ms/step - loss: 0.4134 - accuracy: 0.8340 - val_loss: 0.6658 - val_accuracy: 0.7267\n",
      "Epoch 19/50\n",
      "188/188 [==============================] - 0s 2ms/step - loss: 0.4008 - accuracy: 0.8348 - val_loss: 0.6643 - val_accuracy: 0.7233\n",
      "Epoch 20/50\n",
      "188/188 [==============================] - 0s 3ms/step - loss: 0.4034 - accuracy: 0.8357 - val_loss: 0.7507 - val_accuracy: 0.7283\n",
      "Epoch 21/50\n",
      "188/188 [==============================] - 0s 3ms/step - loss: 0.4008 - accuracy: 0.8403 - val_loss: 0.5731 - val_accuracy: 0.7483\n",
      "Epoch 22/50\n",
      "188/188 [==============================] - 0s 3ms/step - loss: 0.3843 - accuracy: 0.8455 - val_loss: 0.6584 - val_accuracy: 0.7350\n",
      "Epoch 23/50\n",
      "188/188 [==============================] - 0s 3ms/step - loss: 0.3764 - accuracy: 0.8515 - val_loss: 0.8006 - val_accuracy: 0.7267\n",
      "Epoch 24/50\n",
      "188/188 [==============================] - 1s 3ms/step - loss: 0.3810 - accuracy: 0.8452 - val_loss: 0.7383 - val_accuracy: 0.7417\n",
      "Epoch 25/50\n",
      "188/188 [==============================] - 0s 3ms/step - loss: 0.3740 - accuracy: 0.8545 - val_loss: 0.6707 - val_accuracy: 0.7567\n",
      "Epoch 26/50\n",
      "188/188 [==============================] - 0s 3ms/step - loss: 0.3716 - accuracy: 0.8517 - val_loss: 0.6342 - val_accuracy: 0.7350\n",
      "Epoch 27/50\n",
      "188/188 [==============================] - 0s 3ms/step - loss: 0.3702 - accuracy: 0.8533 - val_loss: 0.6145 - val_accuracy: 0.7533\n",
      "Epoch 28/50\n",
      "188/188 [==============================] - 0s 3ms/step - loss: 0.3837 - accuracy: 0.8475 - val_loss: 0.8850 - val_accuracy: 0.6917\n",
      "Epoch 29/50\n",
      "188/188 [==============================] - 1s 3ms/step - loss: 0.3606 - accuracy: 0.8590 - val_loss: 0.6379 - val_accuracy: 0.7550\n",
      "Epoch 30/50\n",
      "188/188 [==============================] - 0s 3ms/step - loss: 0.3794 - accuracy: 0.8487 - val_loss: 0.7330 - val_accuracy: 0.7383\n",
      "Epoch 31/50\n",
      "188/188 [==============================] - 0s 3ms/step - loss: 0.3543 - accuracy: 0.8588 - val_loss: 0.6255 - val_accuracy: 0.7533\n",
      "Epoch 32/50\n",
      "188/188 [==============================] - 0s 2ms/step - loss: 0.3564 - accuracy: 0.8578 - val_loss: 0.6579 - val_accuracy: 0.7517\n",
      "Epoch 33/50\n",
      "188/188 [==============================] - 1s 3ms/step - loss: 0.3466 - accuracy: 0.8608 - val_loss: 0.7495 - val_accuracy: 0.7283\n",
      "Epoch 34/50\n",
      "188/188 [==============================] - 0s 3ms/step - loss: 0.3624 - accuracy: 0.8568 - val_loss: 0.6739 - val_accuracy: 0.7483\n",
      "Epoch 35/50\n",
      "188/188 [==============================] - 1s 3ms/step - loss: 0.3487 - accuracy: 0.8598 - val_loss: 0.7191 - val_accuracy: 0.7417\n",
      "Epoch 36/50\n",
      "188/188 [==============================] - 0s 3ms/step - loss: 0.3395 - accuracy: 0.8682 - val_loss: 0.7454 - val_accuracy: 0.7417\n",
      "Epoch 37/50\n",
      "188/188 [==============================] - 0s 3ms/step - loss: 0.3496 - accuracy: 0.8678 - val_loss: 0.6892 - val_accuracy: 0.7533\n",
      "Epoch 38/50\n",
      "188/188 [==============================] - 0s 2ms/step - loss: 0.3352 - accuracy: 0.8682 - val_loss: 0.8461 - val_accuracy: 0.7350\n",
      "Epoch 39/50\n",
      "188/188 [==============================] - 1s 3ms/step - loss: 0.3316 - accuracy: 0.8693 - val_loss: 0.8179 - val_accuracy: 0.7350\n",
      "Epoch 40/50\n",
      " 25/188 [==>...........................] - ETA: 0s - loss: 0.3338 - accuracy: 0.8637"
     ]
    },
    {
     "ename": "KeyboardInterrupt",
     "evalue": "ignored",
     "output_type": "error",
     "traceback": [
      "\u001b[0;31m---------------------------------------------------------------------------\u001b[0m",
      "\u001b[0;31mKeyboardInterrupt\u001b[0m                         Traceback (most recent call last)",
      "\u001b[0;32m<ipython-input-45-c15bbb9bbc22>\u001b[0m in \u001b[0;36m<module>\u001b[0;34m()\u001b[0m\n\u001b[1;32m     52\u001b[0m                   \u001b[0mepochs\u001b[0m\u001b[0;34m=\u001b[0m\u001b[0mepochs\u001b[0m\u001b[0;34m,\u001b[0m\u001b[0;34m\u001b[0m\u001b[0;34m\u001b[0m\u001b[0m\n\u001b[1;32m     53\u001b[0m                   \u001b[0mverbose\u001b[0m\u001b[0;34m=\u001b[0m\u001b[0;36m1\u001b[0m\u001b[0;34m,\u001b[0m\u001b[0;34m\u001b[0m\u001b[0;34m\u001b[0m\u001b[0m\n\u001b[0;32m---> 54\u001b[0;31m                   validation_data=(X_test, Y_test_onehot))\n\u001b[0m\u001b[1;32m     55\u001b[0m         \u001b[0mscore\u001b[0m\u001b[0;34m,\u001b[0m \u001b[0macc\u001b[0m \u001b[0;34m=\u001b[0m \u001b[0mmodel\u001b[0m\u001b[0;34m.\u001b[0m\u001b[0mevaluate\u001b[0m\u001b[0;34m(\u001b[0m\u001b[0mX_test\u001b[0m\u001b[0;34m,\u001b[0m \u001b[0mY_test_onehot\u001b[0m\u001b[0;34m,\u001b[0m \u001b[0mbatch_size\u001b[0m\u001b[0;34m=\u001b[0m\u001b[0mbatch_size\u001b[0m\u001b[0;34m,\u001b[0m\u001b[0mverbose\u001b[0m\u001b[0;34m=\u001b[0m\u001b[0;36m0\u001b[0m\u001b[0;34m)\u001b[0m\u001b[0;34m\u001b[0m\u001b[0;34m\u001b[0m\u001b[0m\n\u001b[1;32m     56\u001b[0m         \u001b[0mprint\u001b[0m\u001b[0;34m(\u001b[0m\u001b[0;34mf'Test Accuracy for learning rate {learn_rate} CV index {leave_one_idx} is :'\u001b[0m\u001b[0;34m,\u001b[0m \u001b[0;34m\"{:.3f}\"\u001b[0m\u001b[0;34m.\u001b[0m\u001b[0mformat\u001b[0m\u001b[0;34m(\u001b[0m\u001b[0macc\u001b[0m\u001b[0;34m)\u001b[0m\u001b[0;34m)\u001b[0m\u001b[0;34m\u001b[0m\u001b[0;34m\u001b[0m\u001b[0m\n",
      "\u001b[0;32m/usr/local/lib/python3.6/dist-packages/tensorflow/python/keras/engine/training.py\u001b[0m in \u001b[0;36m_method_wrapper\u001b[0;34m(self, *args, **kwargs)\u001b[0m\n\u001b[1;32m    106\u001b[0m   \u001b[0;32mdef\u001b[0m \u001b[0m_method_wrapper\u001b[0m\u001b[0;34m(\u001b[0m\u001b[0mself\u001b[0m\u001b[0;34m,\u001b[0m \u001b[0;34m*\u001b[0m\u001b[0margs\u001b[0m\u001b[0;34m,\u001b[0m \u001b[0;34m**\u001b[0m\u001b[0mkwargs\u001b[0m\u001b[0;34m)\u001b[0m\u001b[0;34m:\u001b[0m\u001b[0;34m\u001b[0m\u001b[0;34m\u001b[0m\u001b[0m\n\u001b[1;32m    107\u001b[0m     \u001b[0;32mif\u001b[0m \u001b[0;32mnot\u001b[0m \u001b[0mself\u001b[0m\u001b[0;34m.\u001b[0m\u001b[0m_in_multi_worker_mode\u001b[0m\u001b[0;34m(\u001b[0m\u001b[0;34m)\u001b[0m\u001b[0;34m:\u001b[0m  \u001b[0;31m# pylint: disable=protected-access\u001b[0m\u001b[0;34m\u001b[0m\u001b[0;34m\u001b[0m\u001b[0m\n\u001b[0;32m--> 108\u001b[0;31m       \u001b[0;32mreturn\u001b[0m \u001b[0mmethod\u001b[0m\u001b[0;34m(\u001b[0m\u001b[0mself\u001b[0m\u001b[0;34m,\u001b[0m \u001b[0;34m*\u001b[0m\u001b[0margs\u001b[0m\u001b[0;34m,\u001b[0m \u001b[0;34m**\u001b[0m\u001b[0mkwargs\u001b[0m\u001b[0;34m)\u001b[0m\u001b[0;34m\u001b[0m\u001b[0;34m\u001b[0m\u001b[0m\n\u001b[0m\u001b[1;32m    109\u001b[0m \u001b[0;34m\u001b[0m\u001b[0m\n\u001b[1;32m    110\u001b[0m     \u001b[0;31m# Running inside `run_distribute_coordinator` already.\u001b[0m\u001b[0;34m\u001b[0m\u001b[0;34m\u001b[0m\u001b[0;34m\u001b[0m\u001b[0m\n",
      "\u001b[0;32m/usr/local/lib/python3.6/dist-packages/tensorflow/python/keras/engine/training.py\u001b[0m in \u001b[0;36mfit\u001b[0;34m(self, x, y, batch_size, epochs, verbose, callbacks, validation_split, validation_data, shuffle, class_weight, sample_weight, initial_epoch, steps_per_epoch, validation_steps, validation_batch_size, validation_freq, max_queue_size, workers, use_multiprocessing)\u001b[0m\n\u001b[1;32m   1096\u001b[0m                 batch_size=batch_size):\n\u001b[1;32m   1097\u001b[0m               \u001b[0mcallbacks\u001b[0m\u001b[0;34m.\u001b[0m\u001b[0mon_train_batch_begin\u001b[0m\u001b[0;34m(\u001b[0m\u001b[0mstep\u001b[0m\u001b[0;34m)\u001b[0m\u001b[0;34m\u001b[0m\u001b[0;34m\u001b[0m\u001b[0m\n\u001b[0;32m-> 1098\u001b[0;31m               \u001b[0mtmp_logs\u001b[0m \u001b[0;34m=\u001b[0m \u001b[0mtrain_function\u001b[0m\u001b[0;34m(\u001b[0m\u001b[0miterator\u001b[0m\u001b[0;34m)\u001b[0m\u001b[0;34m\u001b[0m\u001b[0;34m\u001b[0m\u001b[0m\n\u001b[0m\u001b[1;32m   1099\u001b[0m               \u001b[0;32mif\u001b[0m \u001b[0mdata_handler\u001b[0m\u001b[0;34m.\u001b[0m\u001b[0mshould_sync\u001b[0m\u001b[0;34m:\u001b[0m\u001b[0;34m\u001b[0m\u001b[0;34m\u001b[0m\u001b[0m\n\u001b[1;32m   1100\u001b[0m                 \u001b[0mcontext\u001b[0m\u001b[0;34m.\u001b[0m\u001b[0masync_wait\u001b[0m\u001b[0;34m(\u001b[0m\u001b[0;34m)\u001b[0m\u001b[0;34m\u001b[0m\u001b[0;34m\u001b[0m\u001b[0m\n",
      "\u001b[0;32m/usr/local/lib/python3.6/dist-packages/tensorflow/python/eager/def_function.py\u001b[0m in \u001b[0;36m__call__\u001b[0;34m(self, *args, **kwds)\u001b[0m\n\u001b[1;32m    778\u001b[0m       \u001b[0;32melse\u001b[0m\u001b[0;34m:\u001b[0m\u001b[0;34m\u001b[0m\u001b[0;34m\u001b[0m\u001b[0m\n\u001b[1;32m    779\u001b[0m         \u001b[0mcompiler\u001b[0m \u001b[0;34m=\u001b[0m \u001b[0;34m\"nonXla\"\u001b[0m\u001b[0;34m\u001b[0m\u001b[0;34m\u001b[0m\u001b[0m\n\u001b[0;32m--> 780\u001b[0;31m         \u001b[0mresult\u001b[0m \u001b[0;34m=\u001b[0m \u001b[0mself\u001b[0m\u001b[0;34m.\u001b[0m\u001b[0m_call\u001b[0m\u001b[0;34m(\u001b[0m\u001b[0;34m*\u001b[0m\u001b[0margs\u001b[0m\u001b[0;34m,\u001b[0m \u001b[0;34m**\u001b[0m\u001b[0mkwds\u001b[0m\u001b[0;34m)\u001b[0m\u001b[0;34m\u001b[0m\u001b[0;34m\u001b[0m\u001b[0m\n\u001b[0m\u001b[1;32m    781\u001b[0m \u001b[0;34m\u001b[0m\u001b[0m\n\u001b[1;32m    782\u001b[0m       \u001b[0mnew_tracing_count\u001b[0m \u001b[0;34m=\u001b[0m \u001b[0mself\u001b[0m\u001b[0;34m.\u001b[0m\u001b[0m_get_tracing_count\u001b[0m\u001b[0;34m(\u001b[0m\u001b[0;34m)\u001b[0m\u001b[0;34m\u001b[0m\u001b[0;34m\u001b[0m\u001b[0m\n",
      "\u001b[0;32m/usr/local/lib/python3.6/dist-packages/tensorflow/python/eager/def_function.py\u001b[0m in \u001b[0;36m_call\u001b[0;34m(self, *args, **kwds)\u001b[0m\n\u001b[1;32m    805\u001b[0m       \u001b[0;31m# In this case we have created variables on the first call, so we run the\u001b[0m\u001b[0;34m\u001b[0m\u001b[0;34m\u001b[0m\u001b[0;34m\u001b[0m\u001b[0m\n\u001b[1;32m    806\u001b[0m       \u001b[0;31m# defunned version which is guaranteed to never create variables.\u001b[0m\u001b[0;34m\u001b[0m\u001b[0;34m\u001b[0m\u001b[0;34m\u001b[0m\u001b[0m\n\u001b[0;32m--> 807\u001b[0;31m       \u001b[0;32mreturn\u001b[0m \u001b[0mself\u001b[0m\u001b[0;34m.\u001b[0m\u001b[0m_stateless_fn\u001b[0m\u001b[0;34m(\u001b[0m\u001b[0;34m*\u001b[0m\u001b[0margs\u001b[0m\u001b[0;34m,\u001b[0m \u001b[0;34m**\u001b[0m\u001b[0mkwds\u001b[0m\u001b[0;34m)\u001b[0m  \u001b[0;31m# pylint: disable=not-callable\u001b[0m\u001b[0;34m\u001b[0m\u001b[0;34m\u001b[0m\u001b[0m\n\u001b[0m\u001b[1;32m    808\u001b[0m     \u001b[0;32melif\u001b[0m \u001b[0mself\u001b[0m\u001b[0;34m.\u001b[0m\u001b[0m_stateful_fn\u001b[0m \u001b[0;32mis\u001b[0m \u001b[0;32mnot\u001b[0m \u001b[0;32mNone\u001b[0m\u001b[0;34m:\u001b[0m\u001b[0;34m\u001b[0m\u001b[0;34m\u001b[0m\u001b[0m\n\u001b[1;32m    809\u001b[0m       \u001b[0;31m# Release the lock early so that multiple threads can perform the call\u001b[0m\u001b[0;34m\u001b[0m\u001b[0;34m\u001b[0m\u001b[0;34m\u001b[0m\u001b[0m\n",
      "\u001b[0;32m/usr/local/lib/python3.6/dist-packages/tensorflow/python/eager/function.py\u001b[0m in \u001b[0;36m__call__\u001b[0;34m(self, *args, **kwargs)\u001b[0m\n\u001b[1;32m   2827\u001b[0m     \u001b[0;32mwith\u001b[0m \u001b[0mself\u001b[0m\u001b[0;34m.\u001b[0m\u001b[0m_lock\u001b[0m\u001b[0;34m:\u001b[0m\u001b[0;34m\u001b[0m\u001b[0;34m\u001b[0m\u001b[0m\n\u001b[1;32m   2828\u001b[0m       \u001b[0mgraph_function\u001b[0m\u001b[0;34m,\u001b[0m \u001b[0margs\u001b[0m\u001b[0;34m,\u001b[0m \u001b[0mkwargs\u001b[0m \u001b[0;34m=\u001b[0m \u001b[0mself\u001b[0m\u001b[0;34m.\u001b[0m\u001b[0m_maybe_define_function\u001b[0m\u001b[0;34m(\u001b[0m\u001b[0margs\u001b[0m\u001b[0;34m,\u001b[0m \u001b[0mkwargs\u001b[0m\u001b[0;34m)\u001b[0m\u001b[0;34m\u001b[0m\u001b[0;34m\u001b[0m\u001b[0m\n\u001b[0;32m-> 2829\u001b[0;31m     \u001b[0;32mreturn\u001b[0m \u001b[0mgraph_function\u001b[0m\u001b[0;34m.\u001b[0m\u001b[0m_filtered_call\u001b[0m\u001b[0;34m(\u001b[0m\u001b[0margs\u001b[0m\u001b[0;34m,\u001b[0m \u001b[0mkwargs\u001b[0m\u001b[0;34m)\u001b[0m  \u001b[0;31m# pylint: disable=protected-access\u001b[0m\u001b[0;34m\u001b[0m\u001b[0;34m\u001b[0m\u001b[0m\n\u001b[0m\u001b[1;32m   2830\u001b[0m \u001b[0;34m\u001b[0m\u001b[0m\n\u001b[1;32m   2831\u001b[0m   \u001b[0;34m@\u001b[0m\u001b[0mproperty\u001b[0m\u001b[0;34m\u001b[0m\u001b[0;34m\u001b[0m\u001b[0m\n",
      "\u001b[0;32m/usr/local/lib/python3.6/dist-packages/tensorflow/python/eager/function.py\u001b[0m in \u001b[0;36m_filtered_call\u001b[0;34m(self, args, kwargs, cancellation_manager)\u001b[0m\n\u001b[1;32m   1846\u001b[0m                            resource_variable_ops.BaseResourceVariable))],\n\u001b[1;32m   1847\u001b[0m         \u001b[0mcaptured_inputs\u001b[0m\u001b[0;34m=\u001b[0m\u001b[0mself\u001b[0m\u001b[0;34m.\u001b[0m\u001b[0mcaptured_inputs\u001b[0m\u001b[0;34m,\u001b[0m\u001b[0;34m\u001b[0m\u001b[0;34m\u001b[0m\u001b[0m\n\u001b[0;32m-> 1848\u001b[0;31m         cancellation_manager=cancellation_manager)\n\u001b[0m\u001b[1;32m   1849\u001b[0m \u001b[0;34m\u001b[0m\u001b[0m\n\u001b[1;32m   1850\u001b[0m   \u001b[0;32mdef\u001b[0m \u001b[0m_call_flat\u001b[0m\u001b[0;34m(\u001b[0m\u001b[0mself\u001b[0m\u001b[0;34m,\u001b[0m \u001b[0margs\u001b[0m\u001b[0;34m,\u001b[0m \u001b[0mcaptured_inputs\u001b[0m\u001b[0;34m,\u001b[0m \u001b[0mcancellation_manager\u001b[0m\u001b[0;34m=\u001b[0m\u001b[0;32mNone\u001b[0m\u001b[0;34m)\u001b[0m\u001b[0;34m:\u001b[0m\u001b[0;34m\u001b[0m\u001b[0;34m\u001b[0m\u001b[0m\n",
      "\u001b[0;32m/usr/local/lib/python3.6/dist-packages/tensorflow/python/eager/function.py\u001b[0m in \u001b[0;36m_call_flat\u001b[0;34m(self, args, captured_inputs, cancellation_manager)\u001b[0m\n\u001b[1;32m   1922\u001b[0m       \u001b[0;31m# No tape is watching; skip to running the function.\u001b[0m\u001b[0;34m\u001b[0m\u001b[0;34m\u001b[0m\u001b[0;34m\u001b[0m\u001b[0m\n\u001b[1;32m   1923\u001b[0m       return self._build_call_outputs(self._inference_function.call(\n\u001b[0;32m-> 1924\u001b[0;31m           ctx, args, cancellation_manager=cancellation_manager))\n\u001b[0m\u001b[1;32m   1925\u001b[0m     forward_backward = self._select_forward_and_backward_functions(\n\u001b[1;32m   1926\u001b[0m         \u001b[0margs\u001b[0m\u001b[0;34m,\u001b[0m\u001b[0;34m\u001b[0m\u001b[0;34m\u001b[0m\u001b[0m\n",
      "\u001b[0;32m/usr/local/lib/python3.6/dist-packages/tensorflow/python/eager/function.py\u001b[0m in \u001b[0;36mcall\u001b[0;34m(self, ctx, args, cancellation_manager)\u001b[0m\n\u001b[1;32m    548\u001b[0m               \u001b[0minputs\u001b[0m\u001b[0;34m=\u001b[0m\u001b[0margs\u001b[0m\u001b[0;34m,\u001b[0m\u001b[0;34m\u001b[0m\u001b[0;34m\u001b[0m\u001b[0m\n\u001b[1;32m    549\u001b[0m               \u001b[0mattrs\u001b[0m\u001b[0;34m=\u001b[0m\u001b[0mattrs\u001b[0m\u001b[0;34m,\u001b[0m\u001b[0;34m\u001b[0m\u001b[0;34m\u001b[0m\u001b[0m\n\u001b[0;32m--> 550\u001b[0;31m               ctx=ctx)\n\u001b[0m\u001b[1;32m    551\u001b[0m         \u001b[0;32melse\u001b[0m\u001b[0;34m:\u001b[0m\u001b[0;34m\u001b[0m\u001b[0;34m\u001b[0m\u001b[0m\n\u001b[1;32m    552\u001b[0m           outputs = execute.execute_with_cancellation(\n",
      "\u001b[0;32m/usr/local/lib/python3.6/dist-packages/tensorflow/python/eager/execute.py\u001b[0m in \u001b[0;36mquick_execute\u001b[0;34m(op_name, num_outputs, inputs, attrs, ctx, name)\u001b[0m\n\u001b[1;32m     58\u001b[0m     \u001b[0mctx\u001b[0m\u001b[0;34m.\u001b[0m\u001b[0mensure_initialized\u001b[0m\u001b[0;34m(\u001b[0m\u001b[0;34m)\u001b[0m\u001b[0;34m\u001b[0m\u001b[0;34m\u001b[0m\u001b[0m\n\u001b[1;32m     59\u001b[0m     tensors = pywrap_tfe.TFE_Py_Execute(ctx._handle, device_name, op_name,\n\u001b[0;32m---> 60\u001b[0;31m                                         inputs, attrs, num_outputs)\n\u001b[0m\u001b[1;32m     61\u001b[0m   \u001b[0;32mexcept\u001b[0m \u001b[0mcore\u001b[0m\u001b[0;34m.\u001b[0m\u001b[0m_NotOkStatusException\u001b[0m \u001b[0;32mas\u001b[0m \u001b[0me\u001b[0m\u001b[0;34m:\u001b[0m\u001b[0;34m\u001b[0m\u001b[0;34m\u001b[0m\u001b[0m\n\u001b[1;32m     62\u001b[0m     \u001b[0;32mif\u001b[0m \u001b[0mname\u001b[0m \u001b[0;32mis\u001b[0m \u001b[0;32mnot\u001b[0m \u001b[0;32mNone\u001b[0m\u001b[0;34m:\u001b[0m\u001b[0;34m\u001b[0m\u001b[0;34m\u001b[0m\u001b[0m\n",
      "\u001b[0;31mKeyboardInterrupt\u001b[0m: "
     ]
    }
   ],
   "source": [
    "NN_2004_acc = []\n",
    "\n",
    "batch_size = 64\n",
    "\n",
    "tmp = list(range(0,4800,400))\n",
    "X_Hold_out = [] #Holdout = testing | Max\n",
    "X_CV=[]\n",
    "Y_Hold_out = []\n",
    "Y_CV=[]\n",
    "for i in range(len(tmp)-1):\n",
    "    X_Hold_out+=[X[tmp[i]:tmp[i+1]]]\n",
    "    Y_Hold_out+=[Y[tmp[i]:tmp[i+1]]]\n",
    "    X_CV += [np.concatenate((X[0:tmp[i]],X[tmp[i+1]:]))]\n",
    "    Y_CV += [np.concatenate((Y[0:tmp[i]],Y[tmp[i+1]:]))]\n",
    "N_Leave_One_Subject = len(tmp)-1\n",
    "\n",
    "\n",
    "for learn_rate in [0.0045]:\n",
    "    for leave_one_idx in range(N_Leave_One_Subject): \n",
    "        print(leave_one_idx)\n",
    "        X_train = X_CV[leave_one_idx] # 300 refers to N_features\n",
    "        Y_train = Y_CV[leave_one_idx].reshape(-1,1)\n",
    "        X_test = X_Hold_out[leave_one_idx]\n",
    "        Y_test = Y_Hold_out[leave_one_idx]\n",
    "        \n",
    "        scaler = preprocessing.StandardScaler().fit(X_train)\n",
    "        X_train = scaler.transform(X_train).reshape(-1,300,1)\n",
    "        X_test = scaler.transform(X_test).reshape(-1,300,1)\n",
    "\n",
    "#Y_..._onehot contains one hot encoded Y_... i.e, if Y[i] = 0, Y_onehot[i] = [1,0,0] \n",
    "\n",
    "        X_train, Y_train = RandomOverSampler(random_state=0).fit_resample(X_train.reshape(-1,300),Y_train.flatten())\n",
    "        X_train = X_train.reshape(-1,300,1)\n",
    "        X_test, Y_test = RandomOverSampler(random_state=0).fit_resample(X_test.reshape(-1,300),Y_test.flatten())\n",
    "        X_test = X_test.reshape(-1,300,1)\n",
    "\n",
    "        Y_train_onehot = np.eye(3)[Y_train.astype(int)].reshape(-1,3)\n",
    "        Y_test_onehot = np.eye(3)[Y_test.astype(int)].reshape(-1,3)\n",
    "\n",
    "        print(\"to create\")\n",
    "        model = create_model_2()\n",
    "        model.compile(loss=keras.losses.categorical_crossentropy,\n",
    "                      optimizer=keras.optimizers.Adam(lr=learn_rate),\n",
    "                      metrics=['accuracy'])\n",
    "\n",
    "        batch_size = 32\n",
    "        epochs = 50 #20 epochs now\n",
    "\n",
    "        print(\"Before Fit\")\n",
    "        model.fit(X_train, Y_train_onehot,\n",
    "                  batch_size=batch_size,\n",
    "                  epochs=epochs,\n",
    "                  verbose=1,\n",
    "                  validation_data=(X_test, Y_test_onehot))\n",
    "        score, acc = model.evaluate(X_test, Y_test_onehot, batch_size=batch_size,verbose=0)\n",
    "        print(f'Test Accuracy for learning rate {learn_rate} CV index {leave_one_idx} is :', \"{:.3f}\".format(acc))\n",
    "        NN_2004_acc.append(acc)\n"
   ]
  },
  {
   "cell_type": "code",
   "execution_count": null,
   "metadata": {
    "colab": {
     "base_uri": "https://localhost:8080/",
     "height": 36
    },
    "executionInfo": {
     "elapsed": 412,
     "status": "ok",
     "timestamp": 1601534064512,
     "user": {
      "displayName": "Maxime Tchibozo",
      "photoUrl": "",
      "userId": "01215953581360341724"
     },
     "user_tz": 240
    },
    "id": "4ZHsqH3I3Zqj",
    "outputId": "61edb779-58e1-48bf-f4bb-256bdb54d768"
   },
   "outputs": [
    {
     "data": {
      "text/plain": [
       "0.02635015329200945"
      ]
     },
     "execution_count": 48,
     "metadata": {
      "tags": []
     },
     "output_type": "execute_result"
    }
   ],
   "source": [
    "np.std([0.735, 0.768, 0.740, 0.747, 0.672, 0.742, 0.743, 0.763, 0.778, 0.745, 0.760])"
   ]
  }
 ],
 "metadata": {
  "accelerator": "GPU",
  "colab": {
   "collapsed_sections": [
    "xN9SWc83v5hV",
    "x65v8vdKG7xg"
   ],
   "name": "Hyper_test_updated_regularised.ipynb",
   "provenance": []
  },
  "kernelspec": {
   "display_name": "Python 3",
   "language": "python",
   "name": "python3"
  },
  "language_info": {
   "codemirror_mode": {
    "name": "ipython",
    "version": 3
   },
   "file_extension": ".py",
   "mimetype": "text/x-python",
   "name": "python",
   "nbconvert_exporter": "python",
   "pygments_lexer": "ipython3",
   "version": "3.6.10"
  }
 },
 "nbformat": 4,
 "nbformat_minor": 1
}
